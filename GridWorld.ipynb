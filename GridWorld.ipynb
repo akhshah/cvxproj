{
 "cells": [
  {
   "cell_type": "markdown",
   "metadata": {},
   "source": [
    "# Comparison of Solutions for Markov Decision Processes\n",
    "Mustafa Karabag, Yagiz Savas, Akhil Shah"
   ]
  },
  {
   "cell_type": "markdown",
   "metadata": {},
   "source": [
    "## Introduction\n",
    "\n",
    "Markov Decision Processes (MDPs) provide a mathematical formulation for stochastic sequential decision making. Stochastic sequential decision making is prominent in fields such as economics, control systems, urban planning, and communications [Put94]. \n",
    "\n",
    "In this project, we will be comparing a variety of classic dynamic programming and linear programming methods to solve MDPs. From the dynamic programming realm, the solution methods are:\n",
    "-  Value Iteration\n",
    "-  Policy Iteration\n",
    "\n",
    "and for linear programming methods:\n",
    "-  First order methods\n",
    "    -  Projected Gradient Method\n",
    "    -  Projected Accelerated Gradient Method\n",
    "-  Barrier Method\n",
    "-  Simplex method\n",
    "-  CVXPY toolset (SCS, ECOS, CVXOPT)\n"
   ]
  },
  {
   "cell_type": "markdown",
   "metadata": {},
   "source": [
    "## Problem Formulation\n",
    "$\\textbf{Definition 1:}$ A Markov decision process (MDP) is a tuple $\\mathcal{M}=(S,s_0,A,P)$ where $S$ is the finite set of states, i.e., $|S|=n$, $s_0\\in S$ is the initial state, $A$ is the finite set of actions, i.e. $|A|=\\bar{a}$, and $P: S\\times A \\rightarrow[0,1]^{n}$ is the transition function. For any given $(s,a)$, $P$ satisfies $\\sum_{t\\in S}P(t \\ | \\ s,a)=1$ and $P(t \\ | \\ s,a)\\geq 0$. Assume for simplicity that all actions are available in all states.\n",
    "\n",
    "An infinite run from the initial state $s_0$ is a sequence $\\rho$$=$$s_0a_0s_1a_1s_2...$ of states and actions such that for all $k\\geq 0$, we have $P(s_{k+1}|s_k,a_k)$$>$$0$. A policy specifies a procedure for action selection in each state depending on the history of states and actions. A deterministic policy is a function $\\pi : S \\rightarrow A$ that maps the set of states into the set of available actions for the input state. For a given MDP $\\mathcal{M}$, we denote the set of all possible deterministic policies by $\\Pi(\\mathcal{M})$. \n",
    "\n",
    "To define a reward maximization problem, we relate each state transition with a real valued reward, using the reward function $r : S\\times A\\times S \\rightarrow \\mathbb{R}$. Then, the expected total reward of an infinite horizon decision process following the policy $\\pi$ is given as follows,\n",
    "\n",
    "$\\begin{align}\n",
    "V^{\\pi}(s)=\\lim_{N\\rightarrow \\infty}\\mathbb{E}\\Big[\\sum_{k=0}^{N-1}\\alpha^kr(s_i,\\pi(s),s_{i+1}) \\ \\Big| \\ i_0=s_0\\Big]\n",
    "\\end{align}$ $\\forall s\\in S$\n",
    "\n",
    "where $V^{\\pi}(s)$ is the value of state $s$ under the policy $\\pi$ [BT96]. \n",
    "\n",
    "\n",
    "Suppose that our aim is to find a policy that maximizes the expected total reward. The Bellman equation and optimality conditions provide the following formulation to compute maximum values for states and corresponding actions which achieves the maximum reward values,\n",
    "\n",
    "$\\begin{align}\n",
    "V^{\\star}(s)&=\\max_{a}\\sum_{t\\in S}P(t \\ | \\ s,a)\\Big[r(s,a,t)+\\alpha V^{\\star}(t)\\Big]\\\\\n",
    "\\pi^{\\star}(s)&=\\arg\\max_{a}\\sum_{t\\in S}P(t \\ | \\ s,a)\\Big[r(s,a,t)+\\alpha V^{\\star}(t)\\Big]\\\\\n",
    "\\end{align}$\n",
    "\n",
    "Let $T: \\mathbb{R}^n \\rightarrow \\mathbb{R}^n$ be an operator defined as,\n",
    "\n",
    "$(TV)(s)=\\max_{a}\\sum_{t\\in S}P(t \\ | \\ s,a)\\Big[r(s,a,t)+\\alpha V(t)\\Big]$.\n",
    "\n",
    "Then, the optimality condition is given by $TV^{\\star}=V^{\\star}$. Additionally, from well known results, $T$ is a monotone operator and a contraction mapping. Hence, it satisfies that: (i) for any $V$ satisfying $V\\geq TV$, $V\\geq V^{\\star}$ where inequalities are elementwise, (ii) it has a unique solution to $V^{\\star}=TV^{\\star}$ [BT96]. Using this fact, and defining $r(s,a)=\\sum_{t\\in S}P(t \\ | \\ s,a)r(s,a,t)$, we can formulate finding the maximum expected reward problem as a linear program as following,\n",
    "\n",
    "$\\begin{align}\n",
    "\\min \\ \\ &c^TV\\\\\n",
    "\\text{subject to}: \\ \\ & V(s)\\geq r(s,a)+\\alpha\\sum_{t\\in S}P(t \\ | \\ s,a)V(t)\n",
    "\\end{align}$\n",
    "\n",
    "where $c\\in\\mathbb{R}_{++}^n$. Having $c>0$ for each state ensures the uniqueness of the solution. Let $P_{a_1}\\in[0,1]^{n\\times n}$ be a transition matrix for action $a_1$. We define the following matrices,\n",
    "\n",
    "$\\begin{align}\n",
    "A=\\begin{bmatrix}\n",
    "I_{n\\times n}-\\alpha P_{a_1}\\\\\n",
    "I_{n\\times n}-\\alpha P_{a_2}\\\\\n",
    "...\\\\\n",
    "I_{n\\times n}-\\alpha P_{a_\\bar{a}}\n",
    "\\end{bmatrix}\n",
    "\\end{align}$ ,\n",
    "$\\begin{align}\n",
    "b=\\begin{bmatrix}\n",
    "r(s_1,a_1),&\n",
    "r(s_2,a_1),&\n",
    "...,&\n",
    "r(s_n,a_1),&\n",
    "r(s_1,a_2),&\n",
    "...,&\n",
    "r(s_n,a_2),&\n",
    "...,&\n",
    "r(s_1,a_\\bar{a}),&\n",
    "...,&\n",
    "r(s_n,a_\\bar{a})\n",
    "\\end{bmatrix}^T\n",
    "\\end{align}$.\n",
    "\n",
    "Then the problem becomes,\n",
    "\n",
    "$\\begin{align}\n",
    "\\min \\ \\ &c^TV\\\\\n",
    "\\text{subject to}: \\ \\ & AV\\geq b\n",
    "\\end{align}$\n",
    "\n",
    "#### Dual Program\n",
    "\n",
    "The Lagrangian for the primal problem is given by,\n",
    "\n",
    "$\\begin{align}\n",
    "\\mathcal{L}(V,\\lambda)=c^TV+\\lambda^T(b-AV)\n",
    "\\end{align}$\n",
    "where the dual variable $\\lambda\\in\\mathbb{R}^{n\\bar{a}}$. Hence, the dual problem is,\n",
    "\n",
    "$\\begin{align}\n",
    "\\max & \\ \\ \\lambda^Tb\\\\\n",
    "\\text{Subject to} :&\\ \\  A^T\\lambda-c=0\\\\\n",
    "&\\ \\  \\lambda\\geq 0\n",
    "\\end{align}$,\n",
    "\n",
    "or writing explicitly,  \n",
    "\n",
    "\n",
    "$\\begin{align}\n",
    "\\max & \\ \\ \\sum_{a\\in A}\\sum_{s\\in S}\\lambda(s,a)b(s,a)\\\\\n",
    "\\text{Subject to} :&\\ \\  \\sum_{a\\in A}\\lambda(s,a)-\\alpha\\sum_{t\\in S}\\sum_{a\\in A}P(s \\ | \\ t,a)\\lambda(t,a)=c(s)\\ \\ \\ \\forall \\ \\ s\\in S\\\\\n",
    "&\\ \\  \\lambda(s,a)\\geq 0\\ \\ \\ \\forall s\\in S, \\ \\ a\\in A\n",
    "\\end{align}$\n",
    "\n",
    "where the $\\lambda(s,a)$ variables intuitively represent the expected residence time in a state action pair. Although the deterministic policies are at least as good as randomized policies for examples we are going to use, note that the use of dual program provides an efficient way to extract the randomized policies from the output. Using the dual program [Put94], the optimal policy for each state can be obtained by using,\n",
    "\n",
    "$\\begin{align}\n",
    "P(a \\ | \\ s)= \n",
    "\\begin{cases} \\frac{\\lambda(s,a)}{\\sum_{a\\in A}\\lambda(s,a)}& \\text{if} \\sum_{a\\in A}\\lambda(s,a)\\neq 0\\\\\n",
    "\\text{arbitrary} & \\text{if} \\sum_{a\\in A}\\lambda(s,a)= 0\\end{cases}\n",
    "\\end{align}$"
   ]
  },
  {
   "cell_type": "code",
   "execution_count": 2,
   "metadata": {
    "collapsed": true
   },
   "outputs": [],
   "source": [
    "# Required Packages\n",
    "\n",
    "import numpy as np\n",
    "import math as m\n",
    "import time\n",
    "import numpy.linalg as la\n",
    "from scipy.optimize import linprog\n",
    "import numpy.random as rn\n",
    "import matplotlib.pyplot as plt\n",
    "from cvxpy import *\n",
    "import cvxpy as cvx"
   ]
  },
  {
   "cell_type": "markdown",
   "metadata": {},
   "source": [
    "## Generating the MDP\n",
    "First, we use grid world examples to compare the performance of various methods in terms of scalability and required number of iterations to satisfy the desired error bounds on the state values. The following code generates an (n,m) grid world and allows the agent to choose between five possible actions in each state, namely left, right, up, down and stay. Once the agent chooses an action, the next state is determined stochastically.\n",
    "\n",
    "Second, we use a randomly generated MDP to compare the performance of the same algorithms when used with a larger number of available actions. Note that having a large number of actions does not change the number of variables but increases the number of constraints in the primal problem. \n",
    "\n",
    "### Grid World Transitions"
   ]
  },
  {
   "cell_type": "code",
   "execution_count": 3,
   "metadata": {
    "collapsed": true
   },
   "outputs": [],
   "source": [
    "# This is the grid world generator with 5 possible actions for the agent i.e. (left,right,up,down,loop).\n",
    "# Inputs:\n",
    "# Row: Number of rows of the grid world\n",
    "# Col: Number of columns of the grid world\n",
    "# Prob: Probability of taking the desired action\n",
    "# Output:\n",
    "# P_0: Transition matrix with dimensions 5 x (Row x Col) x (Row x Col)  \n",
    "\n",
    "# When an action is chosen by the agent, it is performed with probability Prob and the remaining (1-Prob) probability\n",
    "# is distributed among other actions. This property is included to introduce stochasticity.\n",
    "# Output matrix is formed in a way that 0th row of the matrix represent transitions from the  bottom left corner \n",
    "# of the grid world. Similarly, the last row is for the upper right corner ((Row x Col)th grid).\n",
    "\n",
    "def Grid_world(Row,Col,Prob):\n",
    "    State=Row*Col\n",
    "    Actions=5\n",
    "    np.random.seed(0)\n",
    "    prob=Prob\n",
    "    P_0=np.zeros((Actions,State,State))\n",
    "    #action left\n",
    "    for i in range(P_0.shape[1]):\n",
    "            if i%Col==0:\n",
    "                if i!=0 and i!=State-Col:\n",
    "                    P_0[0,i,i]=prob+(1-prob)/4\n",
    "                    P_0[0,i,i+1]=(1-prob)/4\n",
    "                    P_0[0,i,i+Col]=(1-prob)/4\n",
    "                    P_0[0,i,i-Col]=(1-prob)/4\n",
    "                if i==0:\n",
    "                    P_0[0,i,i]=prob+(1-prob)/4+(1-prob)/4\n",
    "                    P_0[0,i,i+1]=(1-prob)/4\n",
    "                    P_0[0,i,i+Col]=(1-prob)/4\n",
    "                if i==State-Col:\n",
    "                    P_0[0,i,i]=prob+(1-prob)/4+(1-prob)/4\n",
    "                    P_0[0,i,i+1]=(1-prob)/4\n",
    "                    P_0[0,i,i-Col]=(1-prob)/4\n",
    "            elif i%Col==Col-1:\n",
    "                if i!=Col-1 and i!=State-1:\n",
    "                    P_0[0,i,i]=(1-prob)/4+(1-prob)/4\n",
    "                    P_0[0,i,i-1]=prob\n",
    "                    P_0[0,i,i+Col]=(1-prob)/4\n",
    "                    P_0[0,i,i-Col]=(1-prob)/4\n",
    "                if i==Col-1:\n",
    "                    P_0[0,i,i]=(1-prob)/4+(1-prob)/4+(1-prob)/4\n",
    "                    P_0[0,i,i-1]=prob\n",
    "                    P_0[0,i,i+Col]=(1-prob)/4\n",
    "                if i==State-1:\n",
    "                    P_0[0,i,i]=(1-prob)/4+(1-prob)/4+(1-prob)/4\n",
    "                    P_0[0,i,i-1]=prob\n",
    "                    P_0[0,i,i-Col]=(1-prob)/4\n",
    "            elif i>0 and i<Col-1:\n",
    "                P_0[0,i,i]=(1-prob)/4+(1-prob)/4\n",
    "                P_0[0,i,i-1]=prob\n",
    "                P_0[0,i,i+1]=(1-prob)/4\n",
    "                P_0[0,i,i+Col]=(1-prob)/4\n",
    "            elif i>(Row-1)*Col and i<State-1:\n",
    "                P_0[0,i,i]=(1-prob)/4+(1-prob)/4\n",
    "                P_0[0,i,i-1]=prob\n",
    "                P_0[0,i,i+1]=(1-prob)/4\n",
    "                P_0[0,i,i-Col]=(1-prob)/4\n",
    "            else:\n",
    "                P_0[0,i,i]=(1-prob)/4\n",
    "                P_0[0,i,i-1]=prob\n",
    "                P_0[0,i,i+1]=(1-prob)/4\n",
    "                P_0[0,i,i-Col]=(1-prob)/4\n",
    "                P_0[0,i,i+Col]=(1-prob)/4\n",
    "    # action right\n",
    "    for i in range(P_0.shape[1]):\n",
    "            if i%Col==0:\n",
    "                if i!=0 and i!=State-Col:\n",
    "                    P_0[1,i,i]=(1-prob)/4+(1-prob)/4\n",
    "                    P_0[1,i,i+1]=prob\n",
    "                    P_0[1,i,i+Col]=(1-prob)/4\n",
    "                    P_0[1,i,i-Col]=(1-prob)/4\n",
    "                if i==0:\n",
    "                    P_0[1,i,i]=(1-prob)/4+(1-prob)/4+(1-prob)/4\n",
    "                    P_0[1,i,i+1]=prob\n",
    "                    P_0[1,i,i+Col]=(1-prob)/4\n",
    "                if i==State-Col:\n",
    "                    P_0[1,i,i]=(1-prob)/4+(1-prob)/4+(1-prob)/4\n",
    "                    P_0[1,i,i+1]=prob\n",
    "                    P_0[1,i,i-Col]=(1-prob)/4\n",
    "            elif i%Col==Col-1:\n",
    "                if i!=Col-1 and i!=State-1:\n",
    "                    P_0[1,i,i]=prob+(1-prob)/4\n",
    "                    P_0[1,i,i-1]=(1-prob)/4\n",
    "                    P_0[1,i,i+Col]=(1-prob)/4\n",
    "                    P_0[1,i,i-Col]=(1-prob)/4\n",
    "                if i==Col-1:\n",
    "                    P_0[1,i,i]=prob+(1-prob)/4+(1-prob)/4\n",
    "                    P_0[1,i,i-1]=(1-prob)/4\n",
    "                    P_0[1,i,i+Col]=(1-prob)/4\n",
    "                if i==State-1:\n",
    "                    P_0[1,i,i]=prob+(1-prob)/4+(1-prob)/4\n",
    "                    P_0[1,i,i-1]=(1-prob)/4\n",
    "                    P_0[1,i,i-Col]=(1-prob)/4\n",
    "            elif i>0 and i<Col-1:\n",
    "                P_0[1,i,i]=(1-prob)/4+(1-prob)/4\n",
    "                P_0[1,i,i-1]=(1-prob)/4\n",
    "                P_0[1,i,i+1]=prob\n",
    "                P_0[1,i,i+Col]=(1-prob)/4\n",
    "            elif i>(Row-1)*Col and i<State-1:\n",
    "                P_0[1,i,i]=(1-prob)/4+(1-prob)/4\n",
    "                P_0[1,i,i-1]=(1-prob)/4\n",
    "                P_0[1,i,i+1]=prob\n",
    "                P_0[1,i,i-Col]=(1-prob)/4\n",
    "            else:\n",
    "                P_0[1,i,i]=(1-prob)/4\n",
    "                P_0[1,i,i-1]=(1-prob)/4\n",
    "                P_0[1,i,i+1]=prob\n",
    "                P_0[1,i,i-Col]=(1-prob)/4\n",
    "                P_0[1,i,i+Col]=(1-prob)/4\n",
    "    # action up\n",
    "    for i in range(P_0.shape[1]):\n",
    "            if i%Col==0:\n",
    "                if i!=0 and i!=State-Col:\n",
    "                    P_0[2,i,i]=(1-prob)/4+(1-prob)/4\n",
    "                    P_0[2,i,i+1]=(1-prob)/4\n",
    "                    P_0[2,i,i+Col]=prob\n",
    "                    P_0[2,i,i-Col]=(1-prob)/4\n",
    "                if i==0:\n",
    "                    P_0[2,i,i]=(1-prob)/4+(1-prob)/4+(1-prob)/4\n",
    "                    P_0[2,i,i+1]=(1-prob)/4\n",
    "                    P_0[2,i,i+Col]=prob\n",
    "                if i==State-Col:\n",
    "                    P_0[2,i,i]=prob+(1-prob)/4+(1-prob)/4\n",
    "                    P_0[2,i,i+1]=(1-prob)/4\n",
    "                    P_0[2,i,i-Col]=(1-prob)/4\n",
    "            elif i%Col==Col-1:\n",
    "                if i!=Col-1 and i!=State-1:\n",
    "                    P_0[2,i,i]=(1-prob)/4+(1-prob)/4\n",
    "                    P_0[2,i,i-1]=(1-prob)/4\n",
    "                    P_0[2,i,i+Col]=prob\n",
    "                    P_0[2,i,i-Col]=(1-prob)/4\n",
    "                if i==Col-1:\n",
    "                    P_0[2,i,i]=(1-prob)/4+(1-prob)/4+(1-prob)/4\n",
    "                    P_0[2,i,i-1]=(1-prob)/4\n",
    "                    P_0[2,i,i+Col]=prob\n",
    "                if i==State-1:\n",
    "                    P_0[2,i,i]=prob+(1-prob)/4+(1-prob)/4\n",
    "                    P_0[2,i,i-1]=(1-prob)/4\n",
    "                    P_0[2,i,i-Col]=(1-prob)/4\n",
    "            elif i>0 and i<Col-1:\n",
    "                P_0[2,i,i]=(1-prob)/4+(1-prob)/4\n",
    "                P_0[2,i,i-1]=(1-prob)/4\n",
    "                P_0[2,i,i+1]=(1-prob)/4\n",
    "                P_0[2,i,i+Col]=prob\n",
    "            elif i>(Row-1)*Col and i<State-1:\n",
    "                P_0[2,i,i]=prob+(1-prob)/4\n",
    "                P_0[2,i,i-1]=(1-prob)/4\n",
    "                P_0[2,i,i+1]=(1-prob)/4\n",
    "                P_0[2,i,i-Col]=(1-prob)/4\n",
    "            else:\n",
    "                P_0[2,i,i]=(1-prob)/4\n",
    "                P_0[2,i,i-1]=(1-prob)/4\n",
    "                P_0[2,i,i+1]=(1-prob)/4\n",
    "                P_0[2,i,i-Col]=(1-prob)/4\n",
    "                P_0[2,i,i+Col]=prob\n",
    "    # action down\n",
    "    for i in range(P_0.shape[1]):\n",
    "            if i%Col==0:\n",
    "                if i!=0 and i!=State-Col:\n",
    "                    P_0[3,i,i]=(1-prob)/4+(1-prob)/4\n",
    "                    P_0[3,i,i+1]=(1-prob)/4\n",
    "                    P_0[3,i,i+Col]=(1-prob)/4\n",
    "                    P_0[3,i,i-Col]=prob\n",
    "                if i==0:\n",
    "                    P_0[3,i,i]=prob+(1-prob)/4+(1-prob)/4\n",
    "                    P_0[3,i,i+1]=(1-prob)/4\n",
    "                    P_0[3,i,i+Col]=(1-prob)/4\n",
    "                if i==State-Col:\n",
    "                    P_0[3,i,i]=(1-prob)/4+(1-prob)/4+(1-prob)/4\n",
    "                    P_0[3,i,i+1]=(1-prob)/4\n",
    "                    P_0[3,i,i-Col]=prob\n",
    "            elif i%Col==Col-1:\n",
    "                if i!=Col-1 and i!=State-1:\n",
    "                    P_0[3,i,i]=(1-prob)/4+(1-prob)/4\n",
    "                    P_0[3,i,i-1]=(1-prob)/4\n",
    "                    P_0[3,i,i+Col]=(1-prob)/4\n",
    "                    P_0[3,i,i-Col]=prob\n",
    "                if i==Col-1:\n",
    "                    P_0[3,i,i]=prob+(1-prob)/4+(1-prob)/4\n",
    "                    P_0[3,i,i-1]=(1-prob)/4\n",
    "                    P_0[3,i,i+Col]=(1-prob)/4\n",
    "                if i==State-1:\n",
    "                    P_0[3,i,i]=(1-prob)/4+(1-prob)/4+(1-prob)/4\n",
    "                    P_0[3,i,i-1]=(1-prob)/4\n",
    "                    P_0[3,i,i-Col]=prob\n",
    "            elif i>0 and i<Col-1:\n",
    "                P_0[3,i,i]=prob+(1-prob)/4\n",
    "                P_0[3,i,i-1]=(1-prob)/4\n",
    "                P_0[3,i,i+1]=(1-prob)/4\n",
    "                P_0[3,i,i+Col]=(1-prob)/4\n",
    "            elif i>(Row-1)*Col and i<State-1:\n",
    "                P_0[3,i,i]=(1-prob)/4+(1-prob)/4\n",
    "                P_0[3,i,i-1]=(1-prob)/4\n",
    "                P_0[3,i,i+1]=(1-prob)/4\n",
    "                P_0[3,i,i-Col]=prob\n",
    "            else:\n",
    "                P_0[3,i,i]=(1-prob)/4\n",
    "                P_0[3,i,i-1]=(1-prob)/4\n",
    "                P_0[3,i,i+1]=(1-prob)/4\n",
    "                P_0[3,i,i-Col]=prob\n",
    "                P_0[3,i,i+Col]=(1-prob)/4\n",
    "    # action loop\n",
    "    for i in range(P_0.shape[1]):\n",
    "            if i%Col==0:\n",
    "                if i!=0 and i!=State-Col:\n",
    "                    P_0[4,i,i]=prob+(1-prob)/4\n",
    "                    P_0[4,i,i+1]=(1-prob)/4\n",
    "                    P_0[4,i,i+Col]=(1-prob)/4\n",
    "                    P_0[4,i,i-Col]=(1-prob)/4\n",
    "                if i==0:\n",
    "                    P_0[4,i,i]=prob+(1-prob)/4+(1-prob)/4\n",
    "                    P_0[4,i,i+1]=(1-prob)/4\n",
    "                    P_0[4,i,i+Col]=(1-prob)/4\n",
    "                if i==State-Col:\n",
    "                    P_0[4,i,i]=prob+(1-prob)/4+(1-prob)/4\n",
    "                    P_0[4,i,i+1]=(1-prob)/4\n",
    "                    P_0[4,i,i-Col]=(1-prob)/4\n",
    "            elif i%Col==Col-1:\n",
    "                if i!=Col-1 and i!=State-1:\n",
    "                    P_0[4,i,i]=prob+(1-prob)/4\n",
    "                    P_0[4,i,i-1]=(1-prob)/4\n",
    "                    P_0[4,i,i+Col]=(1-prob)/4\n",
    "                    P_0[4,i,i-Col]=(1-prob)/4\n",
    "                if i==Col-1:\n",
    "                    P_0[4,i,i]=prob+(1-prob)/4+(1-prob)/4\n",
    "                    P_0[4,i,i-1]=(1-prob)/4\n",
    "                    P_0[4,i,i+Col]=(1-prob)/4\n",
    "                if i==State-1:\n",
    "                    P_0[4,i,i]=prob+(1-prob)/4+(1-prob)/4\n",
    "                    P_0[4,i,i-1]=(1-prob)/4\n",
    "                    P_0[4,i,i-Col]=(1-prob)/4\n",
    "            elif i>0 and i<Col-1:\n",
    "                P_0[4,i,i]=prob+(1-prob)/4\n",
    "                P_0[4,i,i-1]=(1-prob)/4\n",
    "                P_0[4,i,i+1]=(1-prob)/4\n",
    "                P_0[4,i,i+Col]=(1-prob)/4\n",
    "            elif i>(Row-1)*Col and i<State-1:\n",
    "                P_0[4,i,i]=prob+(1-prob)/4\n",
    "                P_0[4,i,i-1]=(1-prob)/4\n",
    "                P_0[4,i,i+1]=(1-prob)/4\n",
    "                P_0[4,i,i-Col]=(1-prob)/4\n",
    "            else:\n",
    "                P_0[4,i,i]=prob\n",
    "                P_0[4,i,i-1]=(1-prob)/4\n",
    "                P_0[4,i,i+1]=(1-prob)/4\n",
    "                P_0[4,i,i-Col]=(1-prob)/4\n",
    "                P_0[4,i,i+Col]=(1-prob)/4\n",
    "    return P_0"
   ]
  },
  {
   "cell_type": "markdown",
   "metadata": {},
   "source": [
    "#### Randomly Generated MDP"
   ]
  },
  {
   "cell_type": "code",
   "execution_count": 4,
   "metadata": {
    "collapsed": true
   },
   "outputs": [],
   "source": [
    "# This code generates a random MDP using given number of states and actions.\n",
    "# Inputs:\n",
    "# numOfStates: Number of states of MDP\n",
    "# numOfActions: Number of actions for all states\n",
    "# Output:\n",
    "# P_0: Probability matrix with dimension (a x s x s)\n",
    "\n",
    "#It is assumed that all actions are active in all states. Number of possible transitions for each state \n",
    "#action pair is determined using uniform distribution. Then, transition probabilities are determined \n",
    "#using uniform distribution and normalized afterwards.\n",
    "\n",
    "\n",
    "def randomMDP(numOfStates, numOfActions):\n",
    "    np.random.seed(1)\n",
    "    P_0=np.zeros((numOfActions,numOfStates,numOfStates))\n",
    "    for act in range(numOfActions):\n",
    "        for i in range(P_0.shape[1]):\n",
    "            outgoingNum = 1 + np.random.randint(numOfActions, size=1);\n",
    "            outgoingStateList = np.random.choice(numOfStates, outgoingNum, replace=False)\n",
    "            probs = np.random.rand(outgoingNum[0])\n",
    "            probs = probs/sum(probs)\n",
    "            for j in range(outgoingNum[0]):\n",
    "                P_0[act, i, outgoingStateList[j]] = probs[j]\n",
    "\n",
    "    return P_0"
   ]
  },
  {
   "cell_type": "markdown",
   "metadata": {
    "collapsed": true
   },
   "source": [
    "### Problem Formulation and Constraints for the Linear Program\n",
    "\n",
    "The below functions build the constraint matrices defined in the introduction for several cases. In addition to these constraints, we need to add additional constraints for projected gradient, accelerated projected gradient and barrier methods. Barrier methods utilize closed, convex sets to determine the analytical center, while gradient methods utilize the analytical center as the initial point. This initial point for gradient methods is just a reference; any initial point will suffice. The gradient methods are not required to use these extra constraints, otherwise. The additional constraint which apply an upper bound to state values is defined as,\n",
    "\n",
    "$ \\begin{align}\n",
    "V(s) \\leq \\frac{\\underset{ s',a}{\\max}(r(s',a,t))}{1-\\alpha} +c ,\\forall s \\in S, \\ s', t \\in S, \\ a \\in A, \\ c \\geq 0\n",
    "\\end{align}$.\n",
    "\n",
    "The upper bound is derived as follows,\n",
    " \n",
    "$\\begin{align}\n",
    "V^{\\star}(s_{max})&=\\max_{a}\\sum_{t\\in S}P(t \\ | \\ s,a)\\Big[r(s,a,t)+\\alpha V^{\\star}(t)\\Big] \n",
    "\\\\\n",
    "&\\leq \\max_{a}\\sum_{t\\in S}P(t \\ | \\ s,a) \\Big[r(s,a,t)+\\alpha V^{\\star}(s_{max})\\Big]\n",
    "\\\\\n",
    "&\\leq \\max_{a}\\sum_{t\\in S}P(t \\ | \\ s,a) \\Big[ \\Big[ \\underset{s',a'}{\\max}r(s',a',t) \\Big] +\\alpha V^{\\star}(s_{max})\\Big]\n",
    "\\\\\n",
    "&\\leq \\Big[ \\Big[ \\underset{s',a'}{\\max}r(s',a',t)  \\Big] +\\alpha V^{\\star}(s_{max})\\Big]\n",
    "\\end{align}$\n",
    "\n",
    "where $V^{\\star}(s_{max})$ is the largest state value and $\\left(\\underset{s',a'}{\\max}r(s',a',t)\\right)$ is the largest reward amongst all state action pairs.\n",
    "\n",
    "Thus it can be concluded that\n",
    "\n",
    "$\\begin{align}\n",
    "V^{\\star}(s) \\leq V^{\\star}(s_{max}) \\leq  \\frac{\\underset{s',a}{\\max} r(s',a,t)}{1- \\alpha}, \\forall s \\in S.\n",
    "\\end{align}$\n"
   ]
  },
  {
   "cell_type": "code",
   "execution_count": 5,
   "metadata": {
    "collapsed": true,
    "scrolled": true
   },
   "outputs": [],
   "source": [
    "# Given a grid world, the following code generates constraints for the primal linear program\n",
    "# Inputs:\n",
    "# rows: Number of rows of the grid world\n",
    "# columns: Number of columns of the grid world\n",
    "# prob: Probability of taking the desired action\n",
    "# discount: Discount factor\n",
    "# tolerance: Desired tolerance \n",
    "\n",
    "# Output:\n",
    "# A: Rearranged probability matrix constraint\n",
    "# b: Bounds\n",
    "# c: Coefficients for decision variables\n",
    "# P_0: Transition matrix with dimensions 5 x (Row x Col) x (Row x Col)\n",
    "\n",
    "# The primal problem is \n",
    "# min   c^T x\n",
    "# s.t.  Ax>= b\n",
    "\n",
    "def Primal_parameters_1(rows,columns,prob,reward,discount,tolerance):\n",
    "    States=rows*columns\n",
    "    P_0=Grid_world(rows,columns,prob)\n",
    "    A=np.zeros((5*States,States)) # 5 is number of actions !\n",
    "    b=np.zeros((5*States,1))\n",
    "    # initial distributions USE 1 for each state to ensure the converge to the unique solution!\n",
    "    c=np.ones(States)\n",
    "    # Constraints  Ax>=b\n",
    "    for a in range(5):\n",
    "        A[a*States:(a+1)*States,:]=np.eye(States)-discount*P_0[a,:,:]\n",
    "    # assign reward=1 to the top right cell and zero reward to others\n",
    "    for a in range(P_0.shape[0]):\n",
    "        b[a*States:(a+1)*States]=reward\n",
    "    return A,b,c,P_0\n",
    "\n",
    "# The following code adds additional constraints to bound the polytope above. It is used to find an analytical center \n",
    "# for interior point methods and also as a starting point for gradient methods\n",
    "\n",
    "def Analytic_center_bounds(rows,columns,prob,reward,discount,tolerance):\n",
    "    States=rows*columns\n",
    "    P_0=Grid_world(rows,columns,prob)\n",
    "    A=np.zeros((5*States,States)) # 5 is number of actions !\n",
    "    b=np.zeros((5*States,1))\n",
    "    # initial distributions USE 1 for each state to ensure the converge to the unique solution!\n",
    "    c=np.ones(States)\n",
    "    # Constraints  Ax>=b\n",
    "    for a in range(5):\n",
    "        A[a*States:(a+1)*States,:]=np.eye(States)-discount*P_0[a,:,:]\n",
    "    # assign reward=1 to the top right cell and zero reward to others\n",
    "    for a in range(P_0.shape[0]):\n",
    "        b[a*States:(a+1)*States]=reward\n",
    "    bound=np.max(b)/(1-discount)+100\n",
    "    dum=-np.eye(States)\n",
    "    dum2=-bound*np.ones((States,1))\n",
    "    A=np.concatenate((A,dum),axis=0)\n",
    "    b=np.concatenate((b,dum2),axis=0)\n",
    "    return A,b,c,P_0\n",
    "\n",
    "# Given a primal LP, the following function outputs constraints for the dual problem\n",
    "\n",
    "# Input:\n",
    "# A: Probability matrix constraint\n",
    "# b: Bounds\n",
    "# c: Coefficients for decision variables\n",
    "\n",
    "# Output:\n",
    "# A.T: Rearranged probability matrix constraint\n",
    "# b: bounds\n",
    "# c: coefficients for decision variables\n",
    "\n",
    "# The dual problem is \n",
    "# max b^T y\n",
    "# s.t. A^T y = c\n",
    "#      y>=0\n",
    "\n",
    "def Dual_parameters_1(A,b,c):\n",
    "    return A.T,b,c\n",
    "\n",
    "\n",
    "# The following code generates constraints for the random MDP input\n",
    "# Inputs and outputs are the same with minor changes as explained above \n",
    "def Primal_parameters_2(P_0, discount, reward):\n",
    "    actions=P_0.shape[0]\n",
    "    States=P_0.shape[1]\n",
    "    A=np.zeros((actions*States,States)) # 5 is number of actions !\n",
    "    b=np.zeros((actions*States,1))\n",
    "    # initial distributions USE 1 for each state to ensure the converge to the unique solution!\n",
    "    c=np.ones(States)\n",
    "    # Constraints  Ax>=b\n",
    "    for a in range(actions):\n",
    "        A[a*States:(a+1)*States,:]=np.eye(States)-discount*P_0[a,:,:]\n",
    "    # assign reward=1 to the top right cell and zero reward to others\n",
    "    for a in range(actions):\n",
    "        b[a*States:(a+1)*States]=reward\n",
    "    return A,b,c\n",
    "\n",
    "def Analytic_center_bounds2(P_0, discount, reward):\n",
    "    actions=P_0.shape[0]\n",
    "    States=P_0.shape[1]\n",
    "    A=np.zeros((actions*States,States)) # 5 is number of actions !\n",
    "    b=np.zeros((actions*States,1))\n",
    "    # initial distributions USE 1 for each state to ensure the converge to the unique solution!\n",
    "    c=np.ones(States)\n",
    "    # Constraints  Ax>=b\n",
    "    for a in range(actions):\n",
    "        A[a*States:(a+1)*States,:]=np.eye(States)-discount*P_0[a,:,:]\n",
    "    # assign reward=1 to the top right cell and zero reward to others\n",
    "    for a in range(actions):\n",
    "        b[a*States:(a+1)*States]=reward\n",
    "    bound=np.max(b)/(1-discount)+100\n",
    "    dum=-np.eye(States)\n",
    "    dum2=-bound*np.ones((States,1))\n",
    "    A=np.concatenate((A,dum),axis=0)\n",
    "    b=np.concatenate((b,dum2),axis=0)\n",
    "    return A,b,c"
   ]
  },
  {
   "cell_type": "markdown",
   "metadata": {},
   "source": [
    "## Methods \n",
    "The following code implement the methods such that for a given MDP, the methods are able to determine the optimal state values and policies. First, we find the optimal states values and a policy achieving it by the policy iteration algorithm. Then using its results, we keep a table of relative error values of each iteration for other methods. The elapsed time when using different methods are all measured using the $\\texttt{time.time()}$ function. \n",
    "\n",
    "We also solve the dual problem utilizing different methods."
   ]
  },
  {
   "cell_type": "markdown",
   "metadata": {},
   "source": [
    "### 1) Value Iteration\n",
    "Value iteration is an application of dynamic programming and it is one the most understood and widely-used algortihms to solve MDPs. The algorithm starts with an initial values of states, which can be selected arbitrarily given the existence of a discount factor. In an iteration, using the old state values, the algorithm determines the best action that maximizes the state value. After all the new state values are calculated, a new iteration starts with the updated state values. The algorithm terminates when the difference between old and updated state value are below a threshold [Put94].\n"
   ]
  },
  {
   "cell_type": "code",
   "execution_count": 6,
   "metadata": {
    "collapsed": true
   },
   "outputs": [],
   "source": [
    "# The following function performs the value iteration algorithm\n",
    "# Inputs:\n",
    "# P: Probability matrix\n",
    "# R: Reward vector for states\n",
    "# discount: Discount factor\n",
    "# optimal: Optimal value vector to compute error per iteration\n",
    "# eps: tolerance \n",
    "\n",
    "# Outputs:\n",
    "# stateVals: Value vector for states\n",
    "# bestAction : Action vector for states achieving the optimal value\n",
    "# error : Error values for each iteration\n",
    "# num_iter : Required number of iterations\n",
    "# elapsed_time : Elapsed time during the computation\n",
    "\n",
    "def valitr(P, R, discount, optimal,eps):\n",
    "    start_time = time.time()\n",
    "    numOfStates = P.shape[2]\n",
    "    numOfActions = P.shape[0]\n",
    "    stateVals = np.zeros(numOfStates)\n",
    "    optimal = np.resize(optimal, stateVals.shape)\n",
    "    bestAction = np.zeros(numOfStates)\n",
    "    #df is the stopping criteria\n",
    "    df = np.zeros(1)\n",
    "    df[0] = 1\n",
    "    num_iter=0\n",
    "    error = []\n",
    "    while la.norm(df,2) > eps:\n",
    "        stateValsNew = np.zeros(P.shape[2])\n",
    "        num_iter+=1\n",
    "        #for each state maximize the value\n",
    "        for s in range(numOfStates):\n",
    "            maxVal = -np.inf;\n",
    "            bestActOfs = -1;\n",
    "            #search every action\n",
    "            for a in range(numOfActions):\n",
    "                successors = np.where(P[a,s,:] > 0)\n",
    "                valOfa = R[s] + discount*np.dot(stateVals[successors], np.squeeze(P[a,s,successors]))\n",
    "                if valOfa > maxVal:\n",
    "                    maxVal = valOfa;\n",
    "                    bestActOfs = a;\n",
    "            bestAction[s] = bestActOfs\n",
    "            stateValsNew[s] = maxVal;\n",
    "        #update the state values and continue\n",
    "        df = stateValsNew - stateVals\n",
    "        stateVals = stateValsNew\n",
    "        error.append(la.norm(stateVals - optimal, 2))\n",
    "        \n",
    "    stateVals = np.resize(stateVals, (numOfStates,1))\n",
    "    elapsed_time = time.time() - start_time\n",
    "    return stateVals, bestAction, error, num_iter, elapsed_time"
   ]
  },
  {
   "cell_type": "markdown",
   "metadata": {},
   "source": [
    "### 2) Policy Iteration"
   ]
  },
  {
   "cell_type": "markdown",
   "metadata": {},
   "source": [
    "Policy iteration is a well-known method to solve infinite horizon MDPs, which are required to have a deterministic policy to maximize the objective function. The algorithm starts with an arbitrary deterministic policy, which induces a Markov Chain, or, in other words, each state brings only one constraint. After a policy is generated, it is evaluated to determine the new state values, which is subsequently used to determine the best actions and a new policy is generated. The new policy is generated such that it maximizes the state values. The policy iteration algorithm terminates when the policy converges, i.e., the previous policy is identical to the current policy [Put94]. \n",
    "\n",
    "The main difference between this method and value iteration method is that value iteration method uses the old state values to update state values and relies on the convergence of state values, policy iteration method analytically calculates the state values at each step. We analytically computed the state values using matrix inversion, which is known to have complexity $O(n^3)$, however, other methods with lower complexity exists to evaluate the policy."
   ]
  },
  {
   "cell_type": "code",
   "execution_count": 7,
   "metadata": {
    "collapsed": true
   },
   "outputs": [],
   "source": [
    "# The following function performs the policy iteration algorithm\n",
    "# Inputs:\n",
    "# P: Probability matrix\n",
    "# R: Reward vector for states\n",
    "# discount: Discount factor\n",
    "# eps: tolerance\n",
    "\n",
    "# Outputs:\n",
    "# stateVals: Value vector for states\n",
    "# bestActionNew : Action vector for states achieving the optimal value\n",
    "# error : Error values for each iteration\n",
    "# num_iter : Required number of iterations\n",
    "# elapsed_time : Elapsed time during the computation\n",
    "\n",
    "def policyitr(P, R, discount, eps):\n",
    "    start_time = time.time()\n",
    "    numOfStates = P.shape[2]\n",
    "    numOfActions = P.shape[0]\n",
    "    bestActionOld =  -1*np.ones(numOfStates)\n",
    "    bestActionNew = np.random.randint(numOfActions, size=numOfStates)\n",
    "    stateVals = np.zeros([numOfStates, 1]);\n",
    "    vals = []; #to keep state values;\n",
    "    #stops if the last two polies are same or\n",
    "    df = np.zeros(1)\n",
    "    df[0] = 1\n",
    "    num_iter=0\n",
    "    while not(np.array_equal(bestActionOld, bestActionNew) or la.norm(df,2) < eps):\n",
    "        num_iter+=1\n",
    "        bestActionOld =np.copy(bestActionNew);\n",
    "        #constructs linear equation to find new values of states\n",
    "        A = np.zeros([numOfStates, numOfStates])\n",
    "        #if there are rewards for actions this line must be changed\n",
    "        b = R;\n",
    "        b.resize([numOfStates,1])\n",
    "        for s in range(numOfStates):\n",
    "            ts = discount*P[bestActionNew[s],s,:];\n",
    "            ts.resize([1,numOfStates]);\n",
    "            A[s,:] = -ts;\n",
    "        #update the state values and continue\n",
    "        A = A + np.identity(numOfStates);\n",
    "        stateValsNew = np.linalg.solve(A,b);\n",
    "        df = stateValsNew-stateVals;\n",
    "        stateVals = stateValsNew\n",
    "        vals.append(stateVals)\n",
    "        #for each state maximize the value\n",
    "        for s in range(numOfStates):\n",
    "            maxVal = -np.inf;\n",
    "            bestActOfs = -1;\n",
    "            #search every action\n",
    "            for a in range(numOfActions):\n",
    "                successors = np.where(P[a,s,:] > 0)\n",
    "                valOfa = R[s] + discount*np.dot(np.squeeze(stateVals[successors]), np.squeeze(P[a,s,successors]))\n",
    "                if valOfa > maxVal:\n",
    "                    maxVal = valOfa;\n",
    "                    bestActOfs = a;\n",
    "            bestActionNew[s] = bestActOfs\n",
    "    error = []\n",
    "    for i in range(len(vals)):\n",
    "        error.append(np.linalg.norm(vals[i] - vals[-1], 2))\n",
    "    elapsed_time = time.time() - start_time\n",
    "    return stateVals, bestActionNew, error, num_iter, elapsed_time"
   ]
  },
  {
   "cell_type": "markdown",
   "metadata": {},
   "source": [
    "### 3) CVXPY Solvers for the primal problem"
   ]
  },
  {
   "cell_type": "code",
   "execution_count": 8,
   "metadata": {
    "collapsed": true
   },
   "outputs": [],
   "source": [
    "# The following functions solve the primal problem\n",
    "\n",
    "# It take constraints and a tolerance value as input, and computes optimal value vectors \n",
    "# using different solvers in CVXPY\n",
    "def ECOS_Primal(A,b,c,tol):\n",
    "    Y=cvx.Variable(A.shape[1]) # number of states\n",
    "    cons=[A*Y>=b]\n",
    "    objective=cvx.Minimize(cvx.sum_entries(cvx.mul_elemwise(c,Y)))\n",
    "    prob=cvx.Problem(objective,cons)\n",
    "    start_time = time.time()\n",
    "    prob.solve(solver=ECOS,reltol=tol,max_iters=1000,verbose=False)\n",
    "    elapsed_time = time.time() - start_time\n",
    "    #print (\"status: %s\" % prob.status)\n",
    "    #print (\"optimal value %s\" % objective.value)\n",
    "    return objective.value, Y.value, elapsed_time\n",
    "def SCS_Primal(A,b,c,tol):\n",
    "    Y=cvx.Variable(A.shape[1]) # number of states\n",
    "    cons=[A*Y>=b]\n",
    "    objective=cvx.Minimize(cvx.sum_entries(cvx.mul_elemwise(c,Y)))\n",
    "    prob=cvx.Problem(objective,cons)\n",
    "    start_time = time.time()\n",
    "    prob.solve(solver=SCS,eps=tol,max_iters=1000,verbose=False)\n",
    "    elapsed_time = time.time() - start_time\n",
    "    #print (\"status: %s\" % prob.status)\n",
    "    #print (\"optimal value %s\" % objective.value)\n",
    "    return objective.value, Y.value, elapsed_time\n",
    "def CVXOPT_Primal(A,b,c,tol):\n",
    "    Y=cvx.Variable(A.shape[1]) # number of states\n",
    "    cons=[A*Y>=b]\n",
    "    objective=cvx.Minimize(cvx.sum_entries(cvx.mul_elemwise(c,Y)))\n",
    "    prob=cvx.Problem(objective,cons)\n",
    "    start_time = time.time()\n",
    "    prob.solve(solver=CVXOPT,reltol=tol,max_iters=1000,verbose=False)\n",
    "    elapsed_time = time.time() - start_time\n",
    "    #print (\"status: %s\" % prob.status)\n",
    "    #print (\"optimal value %s\" % objective.value)\n",
    "    return objective.value ,Y.value, elapsed_time"
   ]
  },
  {
   "cell_type": "markdown",
   "metadata": {},
   "source": [
    "### 4) CVXPY Solvers for the dual problem"
   ]
  },
  {
   "cell_type": "code",
   "execution_count": 9,
   "metadata": {
    "collapsed": true
   },
   "outputs": [],
   "source": [
    "# The following functions solve the dual problem\n",
    "\n",
    "# It take constraints and a tolerance value as input, and computes optimal value vectors \n",
    "# using different solvers in CVXPY\n",
    "\n",
    "def ECOS_Dual(A,b,c,tol):\n",
    "    Y=cvx.Variable(A.shape[1]) # number of states\n",
    "    print(A.shape)\n",
    "    cons=[A*Y==c,\n",
    "         Y>=0]\n",
    "    objective=cvx.Maximize(cvx.sum_entries(cvx.mul_elemwise(b,Y)))\n",
    "    prob=cvx.Problem(objective,cons)\n",
    "    start_time = time.time()\n",
    "    prob.solve(solver=ECOS,reltol=tol,max_iters=1000,verbose=False)\n",
    "    elapsed_time = time.time() - start_time\n",
    "    #print (\"status: %s\" % prob.status)\n",
    "    #print (\"optimal value %s\" % objective.value)\n",
    "    return objective.value, Y.value, elapsed_time\n",
    "def SCS_Dual(A,b,c,tol):\n",
    "    Y=cvx.Variable(A.shape[1]) # number of states\n",
    "    cons=[A*Y==c,\n",
    "         Y>=0]\n",
    "    objective=cvx.Maximize(cvx.sum_entries(cvx.mul_elemwise(b,Y)))\n",
    "    prob=cvx.Problem(objective,cons)\n",
    "    start_time = time.time()\n",
    "    prob.solve(solver=SCS,eps=tol,max_iters=1000,verbose=False)\n",
    "    elapsed_time = time.time() - start_time\n",
    "    #print (\"status: %s\" % prob.status)\n",
    "    #print (\"optimal value %s\" % objective.value)\n",
    "    return objective.value, Y.value, elapsed_time\n",
    "def CVXOPT_Dual(A,b,c,tol):\n",
    "    Y=cvx.Variable(A.shape[1]) # number of states\n",
    "    cons=[A*Y==c,\n",
    "         Y>=0]\n",
    "    objective=cvx.Maximize(cvx.sum_entries(cvx.mul_elemwise(b,Y)))\n",
    "    prob=cvx.Problem(objective,cons)\n",
    "    start_time = time.time()\n",
    "    prob.solve(solver=CVXOPT,reltol=tol,max_iters=1000,verbose=False)\n",
    "    elapsed_time = time.time() - start_time\n",
    "    #print (\"status: %s\" % prob.status)\n",
    "    #print (\"optimal value %s\" % objective.value)\n",
    "    return objective.value, Y.value, elapsed_time"
   ]
  },
  {
   "cell_type": "markdown",
   "metadata": {},
   "source": [
    "### 5) Simplex Method\n",
    "The simplex method attempts to find the optimal solution by starting at a feasible extreme point and then following the edges until it reaches a point that is optimal. Each extreme point that the simplex method travels down will improve or not change the objective function. We use $\\texttt{scipy.optimize.linalg}$ package to obtain the results for simplex method."
   ]
  },
  {
   "cell_type": "markdown",
   "metadata": {},
   "source": [
    "### 6) First Order Methods\n",
    "Both gradient descent and accelerated gradient methods require a projection such that the solution is a feasible point in the constraining set. Due to the nature of the linear program, the constraining set is a set of $ (n \\cdot m \\cdot \\bar{a})$ affine inequalities $ Ax \\geq b$. A projection onto this constraining set is difficult, and so an approximate method called alternating projection method is utilized.\n",
    "\n",
    "The alternating projection method was originally applied to a set of affine constraints by von Neumann, but can be extended to this problem utilizing a relaxation method [Boyd03]. The method finds all of the affine inequalities that are violated by the current value $z$, and for those inequality constraints determines the projection onto the individual half-space defined by that constraint. For the constraints that are not violated, the projection is just $z$. "
   ]
  },
  {
   "cell_type": "code",
   "execution_count": 10,
   "metadata": {
    "collapsed": true
   },
   "outputs": [],
   "source": [
    "# The following function projects the variable vector to the constraint set\n",
    "# Inputs: \n",
    "# y: Decision variable\n",
    "# A: Constraint matrix\n",
    "# b: Constraint vector\n",
    "\n",
    "# Reminder: Problem is\n",
    "# min c^T y\n",
    "# s.t. Ax>=b\n",
    "def proj(y, A, b):\n",
    "    x = y\n",
    "    maxIter = 1000\n",
    "    j = 0\n",
    "    while np.min(np.dot(A,x) - b) < 0 and j <= maxIter:\n",
    "        # find the constraints that are violated\n",
    "        constrainedBool = np.greater_equal(np.dot(A, x), b)\n",
    "        \n",
    "        # for each violated constrained perform the projection\n",
    "        for i in range(constrainedBool.shape[0]):\n",
    "            if not np.all(constrainedBool[i]):\n",
    "                # intermediate residual\n",
    "                qq=(b[i] - np.dot(A[i,:], x))\n",
    "                \n",
    "                # projection\n",
    "                x = x + np.reshape(qq[0]*A[i,:]/np.dot(A[i,:].T, A[i,:]), (x.shape[0],x.shape[1]))\n",
    "        # iteration counter\n",
    "        j = j + 1\n",
    "    return x"
   ]
  },
  {
   "cell_type": "markdown",
   "metadata": {},
   "source": [
    "#### 6.1) Projected Gradient Descent\n",
    "Projected gradient descent updates the state values and then projects the state values onto the constraining set using the above projection."
   ]
  },
  {
   "cell_type": "code",
   "execution_count": 80,
   "metadata": {
    "collapsed": true
   },
   "outputs": [],
   "source": [
    "# The following function computes the gradient descent\n",
    "# Inputs: \n",
    "# x: Decision variable\n",
    "# A: Constraint matrix\n",
    "# b: Constraint vector\n",
    "# t: Iteration number\n",
    "# eta0: Initial step size for gradient method\n",
    "\n",
    "# Reminder: Problem is\n",
    "# min c^T y\n",
    "# s.t. Ax>=b\n",
    "\n",
    "def graddes(x, A, b, t, eta0):\n",
    "    eta = eta0/np.sqrt(t + 1)\n",
    "    # gradient is always a vector of ones of shape x.shape\n",
    "    grad = np.ones((x.shape[0], 1))\n",
    "    y = x - eta*grad\n",
    "\n",
    "    x = proj(y, A, b)\n",
    "\n",
    "    return x"
   ]
  },
  {
   "cell_type": "markdown",
   "metadata": {},
   "source": [
    "#### 6.2) Projected Accelerated Gradient Method\n",
    "The accelerated gradient method performs the same general algorithm as projected gradient descent, however, accelerated gradient method uses the \"momentum\" of the gradient update to nudge the new solution in the same direction of the gradient. Accelerated gradient methods have faster convergence rates than gradient descent methods. "
   ]
  },
  {
   "cell_type": "code",
   "execution_count": 12,
   "metadata": {
    "collapsed": true
   },
   "outputs": [],
   "source": [
    "# The following function computes the accelerate gradient method\n",
    "# Inputs: \n",
    "# x: Decision variable\n",
    "# v: Momentum update decision variable\n",
    "# theta: Momentum constant\n",
    "# A: Constraint matrix\n",
    "# b: Constraint vector\n",
    "# t: Iteration number\n",
    "# eta0: Initial step size for gradient method\n",
    "\n",
    "def accelgrad(x, v, theta, A, b, t, eta0):\n",
    "    eta = eta0/np.sqrt(t+1)\n",
    "    grad = np.ones(x.shape)\n",
    "    \n",
    "    v = v - eta*grad\n",
    "    \n",
    "    theta_old = theta\n",
    "    theta = (1 + np.sqrt(1 + 4*theta**2))/2\n",
    "    \n",
    "    xprev = x\n",
    "    x = proj(v, A, b)\n",
    "    \n",
    "    v = x + (theta_old - 1)/(theta)*(x - xprev)\n",
    "    \n",
    "    return x, v, theta"
   ]
  },
  {
   "cell_type": "code",
   "execution_count": 81,
   "metadata": {
    "collapsed": true
   },
   "outputs": [],
   "source": [
    "# The following function implements the descent methods\n",
    "# Inputs: \n",
    "# update: Update engine utilized (graddes or accelgrad)\n",
    "# update_name: String input to indicate update engine (gradient or accelerated)\n",
    "# x: Initial decision variable\n",
    "# A: Constraint matrix\n",
    "# b: Constraint vector\n",
    "# eta0: Initial step size for gradient method\n",
    "# tol: Tolerance for stopping criterion\n",
    "# optVal: Optimal value for error calculation\n",
    "# T: Maximum number of iterations\n",
    "\n",
    "def descent(update, update_name, x, A, b, eta0, tol, optVal, T=int(1e4)):\n",
    "    v = x\n",
    "    theta = 1.\n",
    "    error = []\n",
    "    \n",
    "    t = int(0)\n",
    "    xnew = x + 1;\n",
    "    while t <=  T and la.norm(x - xnew, 2) > tol:\n",
    "        x = xnew\n",
    "        if update_name == \"gradient\":\n",
    "            xnew = update(x, A, b, t, eta0)\n",
    "            \n",
    "        elif update_name == \"accelerated\":\n",
    "            xnew, v, theta = update(x, v, theta, A, b, t, eta0)\n",
    "            \n",
    "        if(t % 1 == 0) or (t == T - 1):\n",
    "            error.append(la.norm(x - optVal,2))\n",
    "        t = int(t + 1)\n",
    "    \n",
    "    return x, error, t"
   ]
  },
  {
   "cell_type": "markdown",
   "metadata": {},
   "source": [
    "### 7) Interior Point Method (Barrier Method)"
   ]
  },
  {
   "cell_type": "markdown",
   "metadata": {},
   "source": [
    "Barrier method is an interior point method to solve convex optimization problems with inequality constraints. In the barrier method, the constarints are added to the main objective as an extra barrier function. This extra function approaches infinity when the optimized variable gets closer to the boundaries of the convex set, i.e., it encourages the variable to stay in the feasible region. The algorithm starts from the analytical center which minimizes the barrier function. As the number of iterations increases, the original objective becomes comparable due to a geometric multiplier with the barrier function and the optimized variable gets closer to the boundaries. In this project, the barrier function is chosen to be logarithmic. The new objective for barrier method is given as following:\n",
    "$ \\begin{equation*}\n",
    "    x^* = \\underset{x}{\\arg\\min} \\ tc^Tx - \\sum_i \\log (a_i^T x - b_i)\n",
    "\\end{equation*} $\n",
    "\n",
    "where $t$ is the multiplier.\n",
    "\n",
    "As previously mentioned the barrier method needs additional contraints to solve MDPs. In the absence of these constraints, the intersection of hyperspaces are not closed and the log barrier function is minimized at infinity. A reasonable analytical center can be obtained by bounding the space i.e. converting the domain into a polytope. The analytical center of the polytope is obtained by the SCS solver and the central path is found by Newton's method."
   ]
  },
  {
   "cell_type": "code",
   "execution_count": 14,
   "metadata": {
    "collapsed": true
   },
   "outputs": [],
   "source": [
    "# The following function returns the gradient of the barrier function\n",
    "# Inputs: \n",
    "# x: Decision variable\n",
    "# A: Constraint matrix\n",
    "# b: Constraint vector\n",
    "\n",
    "# Reminder: Problem is\n",
    "# min c^T y\n",
    "# s.t. Ax>=b\n",
    "def findBarrierGradient(A,b,x):\n",
    "    g = np.zeros(A.shape[1])\n",
    "    for i in range(A.shape[0]):\n",
    "        g = g - A[i,:]/(np.dot(A[i,:],x) - b[i])\n",
    "    g = np.resize(g, x.shape)\n",
    "    return g"
   ]
  },
  {
   "cell_type": "code",
   "execution_count": 15,
   "metadata": {
    "collapsed": true
   },
   "outputs": [],
   "source": [
    "# The following function returns the Hessian of the barrier function\n",
    "# Inputs: \n",
    "# x: Decision variable\n",
    "# A: Constraint matrix\n",
    "# b: Constraint vector\n",
    "\n",
    "def findBarrierHessian(A,b,x):\n",
    "    H = np.zeros([A.shape[1], A.shape[1]])\n",
    "    for i in range(A.shape[0]):\n",
    "        H = H + np.outer(A[i,:], A[i,:])/(np.dot(A[i,:],x) - b[i])**2\n",
    "    return H"
   ]
  },
  {
   "cell_type": "code",
   "execution_count": 82,
   "metadata": {
    "collapsed": true
   },
   "outputs": [],
   "source": [
    "# The following function returns the analytical center of the polytope\n",
    "# Inputs: \n",
    "# A: Constraint matrix\n",
    "# b: Constraint vector\n",
    "# xFeasible: Feasible starting point\n",
    "# T: Dummy input\n",
    "\n",
    "def findAnalyticCenter(A,b,xFeasible,T):\n",
    "    #finds the analytical center for IPM using CVXPY\n",
    "    xFeasible=np.resize(xFeasible,(A.shape[1],1))\n",
    "    Y=cvx.Variable(A.shape[1])\n",
    "    dum=0\n",
    "    for i in range(A.shape[0]):\n",
    "        dum+=cvx.log(cvx.sum_entries(cvx.mul_elemwise(A[i,:],Y))-b[i])\n",
    "    obj=cvx.Minimize(-dum)\n",
    "    prob=cvx.Problem(obj)\n",
    "    prob.solve(solver=SCS,eps=tol,max_iters=100,verbose=False)\n",
    "    return Y.value"
   ]
  },
  {
   "cell_type": "code",
   "execution_count": 83,
   "metadata": {
    "collapsed": true
   },
   "outputs": [],
   "source": [
    "# The following function finds the optimal solution for the barrier method\n",
    "# Inputs: \n",
    "# A: Constraint matrix\n",
    "# b: Constraint vector\n",
    "# stateValsNew: Analytical center\n",
    "# alpha: Multiplier to increase t\n",
    "# eps: Tolerance for stopping criterion\n",
    "# stateValsOpt: Optimal solution for error calculation\n",
    "# t: Initial objective value multiplier\n",
    "\n",
    "def findOptimalSolution(A,b,stateValsNew,alpha,eps, stateValsOpt,t):\n",
    "    #finds the optimal solution using IPM\n",
    "    error = []\n",
    "    #to make it enter the loop\n",
    "    stateVals = stateValsNew + 1;\n",
    "    cPathPoint = stateValsNew\n",
    "    cPathPointNew = stateValsNew +1\n",
    "    itr = 0;\n",
    "    while (np.linalg.norm(cPathPoint-cPathPointNew,2) > eps):\n",
    "        dec = 1\n",
    "        cPathPoint = cPathPointNew\n",
    "        itr+=1\n",
    "        while(dec > 100*eps):\n",
    "            stateVals = stateValsNew\n",
    "            #Finds the gradient and hessian\n",
    "            g = t*np.ones([stateVals.size, 1]) + findBarrierGradient(A,b,stateVals)\n",
    "            H = findBarrierHessian(A,b,stateVals)\n",
    "            #Updates the values\n",
    "            stateValsNew = stateVals - np.dot(np.linalg.inv(H),g)\n",
    "            dec = 1/2*np.dot(np.transpose(g),np.dot(np.linalg.inv(H),g))\n",
    "        t = t*(1+alpha)\n",
    "        cPathPointNew = stateValsNew\n",
    "        error.append(np.linalg.norm(cPathPointNew - stateValsOpt,2))\n",
    "        if np.isnan(error[-1]):\n",
    "                return stateVals , error\n",
    "    return stateVals, error\n"
   ]
  },
  {
   "cell_type": "code",
   "execution_count": 84,
   "metadata": {
    "collapsed": true
   },
   "outputs": [],
   "source": [
    "# The following function is the entry point for the interior point method\n",
    "# Inputs: \n",
    "# A: Constraint matrix\n",
    "# b: Constraint vector\n",
    "# discount: Discount factor\n",
    "# eps: Tolerance for stopping criterion\n",
    "# alpha: Multiplier to increase t\n",
    "# stateValsOpt: Optimal solution for error calculation\n",
    "# t: Initial objective value multiplier\n",
    "\n",
    "def interiorPoint(A, b, discount, eps, alpha, stateValsOpt, t):\n",
    "    #finds another feasible point using the optimal solution\n",
    "    xFeasible = stateValsOpt +1;\n",
    "    #finds analytical center\n",
    "    start_time = time.time()\n",
    "    xF = findAnalyticCenter(A,b,xFeasible,1000);\n",
    "    stateVals, error = findOptimalSolution(A,b,xF,alpha,eps, stateValsOpt,t)\n",
    "    elapsed_time = time.time() - start_time\n",
    "    return stateVals, error, elapsed_time"
   ]
  },
  {
   "cell_type": "code",
   "execution_count": 85,
   "metadata": {
    "collapsed": true
   },
   "outputs": [],
   "source": [
    "# The following function plots the Grid World results\n",
    "# Vals: computed state values\n",
    "# bestAction: computed policy\n",
    "# Rows: number of rows in Grid World\n",
    "# Columns: number of columns in Grid World\n",
    "# cbarlabel: string input to label heatmap colorbar\n",
    "\n",
    "def plotGridWorld(Vals, bestAction, Rows, Columns,cbarlabel):\n",
    "    imgData = np.resize(Vals,[Rows, Columns]);\n",
    "    imgData = np.flipud(imgData);    \n",
    "    plt.imshow(imgData, interpolation='nearest')\n",
    "    bestAction = np.resize(bestAction,[Rows, Columns])\n",
    "    for a in range(Rows):\n",
    "        for b in range(Columns): \n",
    "            if bestAction[Rows -1 - a,b]== 0:\n",
    "                plt.text(b,a ,r'$ \\leftarrow $')\n",
    "            elif bestAction[Rows -1 - a,b]== 1:\n",
    "                plt.text(b,a,r'$ \\rightarrow $')\n",
    "            elif bestAction[Rows -1 - a,b]== 2:\n",
    "                plt.text(b,a,r'$ \\uparrow $')\n",
    "            elif bestAction[Rows -1 - a,b] == 3:\n",
    "                plt.text(b,a,r'$ \\downarrow $')\n",
    "            elif bestAction[Rows -1 - a,b] == 4:\n",
    "                plt.text(b,a ,r'$ o $')\n",
    "            #plt.text(b,a,r'$ \\leftarrow $')\n",
    "            \n",
    "    cbar = plt.colorbar()\n",
    "    cbar.set_label(cbarlabel)\n",
    "    plt.show()\n",
    "# The following function plots the Grid World\n",
    "# R: Rewards\n",
    "# Rows: number of rows in Grid World\n",
    "# Columns: number of columns in Grid World\n",
    "# cbarlabel: string input to label heatmap colorbar\n",
    "\n",
    "def Grid_Map(R, Rows, Columns,cbarlabel):\n",
    "    imgData = np.resize(R,[Rows, Columns]);\n",
    "    imgData = np.flipud(imgData);    \n",
    "    plt.imshow(imgData, interpolation='nearest')\n",
    "    cbar = plt.colorbar()\n",
    "    cbar.set_label(cbarlabel)\n",
    "    plt.show()\n",
    "    \n",
    "# The following functions plot the errors\n",
    "def Plots(policy,value,interior,proj,acc):\n",
    "    plt.figure()\n",
    "    plt.yscale('log')\n",
    "    plt.plot(range(len(policy)), policy,label='Policy It.')\n",
    "    plt.plot(range(len(value)), value,label='Value It.')\n",
    "    plt.plot(range(len(interior)), interior,label='Interior')\n",
    "    plt.plot(range(len(proj)), proj,label='Proj Grad')\n",
    "    plt.plot(range(len(acc)), acc,label='Acc. Proj Grad')\n",
    "    plt.legend()\n",
    "    plt.ylabel('Error value (Log Scale)')\n",
    "    plt.xlabel('Number of Iterations')\n",
    "    plt.show()\n",
    "def Plots2(policy,value,interior):\n",
    "    plt.figure()\n",
    "    plt.yscale('log')\n",
    "    plt.plot(range(len(policy)), policy,label='Policy It.')\n",
    "    plt.plot(range(len(value)), value,label='Value It.')\n",
    "    plt.plot(range(len(interior)), interior,label='Interior')\n",
    "    plt.legend()\n",
    "    plt.ylabel('Error value (Log Scale)')\n",
    "    plt.xlabel('Number of Iterations')\n",
    "    plt.show()\n",
    "def Plots3(policy,value):\n",
    "    plt.figure()\n",
    "    plt.yscale('log')\n",
    "    plt.plot(range(len(policy)), policy,label='Policy It.')\n",
    "    plt.plot(range(len(value)), value,label='Value It.')\n",
    "    plt.legend()\n",
    "    plt.ylabel('Error value (Log Scale)')\n",
    "    plt.xlabel('Number of Iterations')\n",
    "    plt.show()"
   ]
  },
  {
   "cell_type": "markdown",
   "metadata": {},
   "source": [
    "## Examples\n",
    "\n",
    "### 1) 4 x 4 Grid World\n",
    "In the first example, we used a 4 by 4 grid world example to compare the required number of iterations for different methods to achieve a desired tolerance level. Tolerance is in terms of the 2-norm difference between last two iterations of algorithms. The agent starts from the bottom left grid and its aim is to reach the top left grid while avoiding some of the intermediate grids. We solve this problem using (1) value iteration, (2) policy iteration, (3) simplex method, (4) CVXPY with SCS, ECOS, and CVXOPT solvers, (5) projected gradient descent, (6) accelerated projected gradient descent and (7) interior point (log barrier) method. We assume that the agent takes the chosen action with probability 0.8, and we use the discount factor of 0.9. The desired tolerance is $10^{-7}$.\n",
    "\n",
    "###### i) Primal Problem\n",
    "The primal problem has 16 variables and 80 constraints. The first figure shows the reward values assigned to grids. The aim of the agent is to reach (3,0)th grid by starting from (0,3)th grid while maximizing its reward. We provide the resulting policy obtained by policy iteration when the primal problem is used. We compare the methods in terms of the required number of iterations and the elapsed time (measured by $\\texttt{time.time()}$ function). Additionally, we include error vs. iteration plots for the methods that provide them. The error values measure how far the solution vector is from the optimal result with the results of the policy iteration algorithm as the reference.\n",
    "\n",
    "Note: We use the analytical center as the starting point for projected gradient methods."
   ]
  },
  {
   "cell_type": "code",
   "execution_count": 50,
   "metadata": {},
   "outputs": [
    {
     "data": {
      "image/png": "[encoded data removed]",
      "text/plain": [
       "<matplotlib.figure.Figure at 0x111d2dba8>"
      ]
     },
     "metadata": {},
     "output_type": "display_data"
    }
   ],
   "source": [
    "rows,columns,prob,discount,tol=4,4,0.8,0.9,1e-7 # Parameters for the example\n",
    "reward=np.zeros((rows*columns,1))\n",
    "reward[5],reward[10],reward[15]=-3,-3,5\n",
    "A,b,c,P_0=Primal_parameters_1(rows,columns,prob,reward,discount,tol) # Compute constraints\n",
    "A_c,b_c,c_c,P_0_c=Analytic_center_bounds(rows,columns,prob,reward,discount,tol) # Compute constraints\n",
    "Grid_Map(b[0:P_0.shape[1]], rows, columns,'Reward')"
   ]
  },
  {
   "cell_type": "code",
   "execution_count": 54,
   "metadata": {},
   "outputs": [
    {
     "data": {
      "image/png": "[encoded data removed]",
      "text/plain": [
       "<matplotlib.figure.Figure at 0x115327c18>"
      ]
     },
     "metadata": {},
     "output_type": "display_data"
    },
    {
     "data": {
      "image/png": "[encoded data removed]",
      "text/plain": [
       "<matplotlib.figure.Figure at 0x116f3a6d8>"
      ]
     },
     "metadata": {},
     "output_type": "display_data"
    }
   ],
   "source": [
    "polyit_val, bestAction2,error_pol, num_iter_pol, time_pol = policyitr(P_0, b[0:P_0.shape[1]], discount, tol) # Policy Iteration\n",
    "valit_val, bestAction,error_val, num_iter_val, time_val = valitr(P_0, b, discount,polyit_val, tol) # Value Iteration\n",
    "start_time = time.time()\n",
    "res = linprog(c_c, -A_c, -b_c, A_eq=None, b_eq=None, bounds=None, method='simplex',\\\n",
    "              callback=None, options={'disp': False, 'bland': False, 'tol': tol, 'maxiter': 10000}) # Simplex\n",
    "elapsed_time_simplex = time.time() - start_time\n",
    "obj_ecos_p, ecos_val_p, time_ecos_p=ECOS_Primal(A,b,c,tol) # ECOS Primal\n",
    "obj_scs_p, scs_val_p, time_scs_p=SCS_Primal(A,b,c,tol) # SCS Primal\n",
    "obj_cvx_p, cvx_val_p, time_cvx_p=CVXOPT_Primal(A,b,c,tol) # CVXOPT Primal\n",
    "plotGridWorld(polyit_val, bestAction2, rows, columns,'State Values')\n",
    "analytical_vals=findAnalyticCenter(A_c,b_c,valit_val+10,T=1000)\n",
    "start_time = time.time()\n",
    "projgrad_val, projgrad_error, projgrad_iter = descent(graddes, \"gradient\", analytical_vals, A, b, 10, tol, polyit_val) # Projected Gradient\n",
    "elapsed_time_projgrad = time.time() - start_time\n",
    "start_time = time.time()\n",
    "accgrad_val, accgrad_error, accgrad_iter = descent(accelgrad, \"accelerated\", analytical_vals, A, b, 10, tol, polyit_val) # Accelerated Gradient Descent\n",
    "elapsed_time_accgrad = time.time() - start_time\n",
    "interior_val, interior_error, elapsed_int=interiorPoint(A_c, b_c, discount, tol, 0.15, polyit_val,1e-2) # Interior Point Method\n",
    "Plots(error_pol,error_val,interior_error,projgrad_error,accgrad_error)"
   ]
  },
  {
   "cell_type": "markdown",
   "metadata": {},
   "source": [
    "| Methods  | Number of Iterations | Elapsed Time (s) |Error ($\\lVert  . \\rVert_2$)  |\n",
    "| ------------- | ------------- |------------ |-------- |\n",
    "| Value Iteration  | 182  |0.32816 |8.197e-07 |\n",
    "| Policy Iteration  | 4  |0.01521 |Reference |\n",
    "| Simplex Method  | 39  |0.09414 |Failed |\n",
    "| ECOS Solver  | 8  |0.00381 |1.197e-07 |\n",
    "| SCS Solver  | 720  |0.03633 |5.337e-06 |\n",
    "| CVXOPT Solver  | 7  |0.01729 |7.618e-07 |\n",
    "| Barrier Method  | 149  |3.06246 |6.360e-07 |\n",
    "| Projected Gradient Descent | 37 | 19.46743 |2.593e-10 |\n",
    "| Acc Projected Gradient Descent  | 12 |5.45143 |1.184e-09 |\n",
    "\n",
    "\n",
    "Policy iteration converged quickest in terms of number of iterations, which is confirmed by the literature. Value iteration is outperformed by policy iteration because as it converges to the optimal solution the rate of change in state values are monotonically decreasing. Nevertheless, this method provides a $\\epsilon$-optimal solution in any potential case. \n",
    "\n",
    "In the 4 by 4 case, projected gradient descent methods, while successful, took the longest time to converge and in general should not be the methodology utilized to solve higher dimensional MDPs. The convergence time is very slow due to the alternating projection method, as the solution iterates until a feasible point is found or the number of maximum iterations is reached. The barrier method proved to be difficult to tune and required many different combinations of parameters to reach a reasonable solution. Even with tuning, the other methods outperform the barrier method in time and number of iterations except for the gradient methods\n",
    "\n",
    "**Note**: While testing of the 4x4 simplex method, it was found that in the case of a symmetric grid world the built-in SciPy simplex function failed to find a feasible starting point. The simplex method succeeds for asymmetric grid world examples."
   ]
  },
  {
   "cell_type": "markdown",
   "metadata": {},
   "source": [
    "###### ii) Dual Problem\n",
    "The dual problem has 80 variables and 96 constraints. We solve the dual problem using (1) simplex method and (2) CVXPY with SCS, ECOS, and CVXOPT solvers. Additionally, we provide the resulting policy obtained by CVXOPT solver with the original rewards. The methods are compared in terms of the required number of iterations and the elapsed time (measured by $\\texttt{time.time()}$ function). Also, using the ECOS solver as a reference, we compare the error values in terms of the absolute value distance between the objective values."
   ]
  },
  {
   "cell_type": "code",
   "execution_count": 57,
   "metadata": {},
   "outputs": [
    {
     "name": "stdout",
     "output_type": "stream",
     "text": [
      "(16, 80)\n"
     ]
    },
    {
     "data": {
      "image/png": "[encoded data removed]",
      "text/plain": [
       "<matplotlib.figure.Figure at 0x111ce5e80>"
      ]
     },
     "metadata": {},
     "output_type": "display_data"
    }
   ],
   "source": [
    "A_p,b_p,c_p=Dual_parameters_1(A,b,c)\n",
    "obj_ecos_d, ecos_val_d, time_ecos_d=ECOS_Dual(A_p,b_p,c_p,tol) # ECOS Dual\n",
    "obj_scs_d, scs_val_d, time_scs_d=SCS_Dual(A_p,b_p,c_p,tol) # SCS Dual\n",
    "obj_cvx_d, cvx_val_d, time_cvx_d=CVXOPT_Dual(A_p,b_p,c_p,tol) # CVXOPT Dual\n",
    "policy = np.zeros((A_p.shape[0],5))\n",
    "for a in range(5):\n",
    "    for i in range(A_p.shape[0]):\n",
    "         policy[i,a]=cvx_val_d[a*P_0.shape[1]+i]\n",
    "denum=np.sum(policy, axis=1)  \n",
    "for i in range(A_p.shape[0]):\n",
    "    for j in range(5):\n",
    "        policy[i,j]=policy[i,j]/denum[i]\n",
    "policy=np.argmax(policy,axis=1)\n",
    "plotGridWorld(b[0:P_0.shape[1]], policy, rows, columns,'Reward')\n",
    "b_pp=np.reshape(b_p,(b_p.shape[0],))\n",
    "c_pp=np.reshape(c_p,(c_p.shape[0],1))\n",
    "eye=np.eye(A_p.shape[1])\n",
    "zeros=np.zeros((A_p.shape[1],1))\n",
    "start_time = time.time()\n",
    "res = linprog(-b_pp, -eye, zeros, A_eq=A_p, b_eq=c_pp, bounds=None, method='simplex',\\\n",
    "              callback=None, options={'disp': False, 'bland': False, 'tol': tol, 'maxiter': 1000}) # Simplex\n",
    "elapsed_time_simplex = time.time() - start_time\n"
   ]
  },
  {
   "cell_type": "markdown",
   "metadata": {},
   "source": [
    "| Methods  | Number of Iterations | Elapsed Time (s) | Error ($\\lvert . \\rvert$) | \n",
    "| ------------- | ------------- |------------ | -----------|\n",
    "| Simplex Method  | 29  |0.03769 | 3.195e-06 | \n",
    "| ECOS Solver  | 7  |0.00474 | Reference | \n",
    "| SCS Solver  | >1000  |0.01352 | 3.805e-05 | \n",
    "| CVXOPT Solver  | 7  |0.01593 |2.936e-07 | \n",
    "\n",
    "In this case, the simplex was able to converge regardless of the structure of the MDP. ECOS and CVXOPT provide optimal solutions in a relatively low number of iterations and time. SCS solver failed to reach the optimal solution in the maximum number of iterations. "
   ]
  },
  {
   "cell_type": "markdown",
   "metadata": {},
   "source": [
    "### 2)  5 x 5 Grid World\n",
    "In this example, we showed that the structure of the reward vector and a slight increase in the number of states may possibly cause some of the methods to fail. In this example, we use a 5 by 5 grid world example. Again, we solve this problem using (1) value iteration, (2) policy iteration, (3) simplex method, (4) CVXPY with SCS, ECOS, and CVXOPT solvers, and (5) interior point (log barrier) method. We assume that the agent takes the chosen action with probability 0.8, and we use the discount factor of 0.9. The desired tolerance is $10^{-7}$. Tolerance is in terms of the 2-norm difference between last two iterations.\n",
    "\n",
    "##### i) Primal Problem\n",
    "The primal problem has 25 variables and 125 constraints. The first figure shows the reward values assigned to grids. The aim of the agent is to reach (2,1)th grid by starting from (0,4)th grid while maximizing its reward. We provide the resulting policy obtained by policy iteration when the primal problem is used. We compare the methods in terms of the required number of iterations and the elapsed time (measured by time.time() function). Additionally, we include error vs. iteration plots for some of the methods. Error values are the 2-norm difference between the results of policy iteration and the other methods."
   ]
  },
  {
   "cell_type": "code",
   "execution_count": 58,
   "metadata": {},
   "outputs": [
    {
     "data": {
      "image/png": "[encoded data removed]",
      "text/plain": [
       "<matplotlib.figure.Figure at 0x111d34358>"
      ]
     },
     "metadata": {},
     "output_type": "display_data"
    }
   ],
   "source": [
    "rows,columns,prob,discount,tol=5,5,0.8,0.9,1e-7 # Parameters for the example\n",
    "reward=np.zeros((rows*columns,1))\n",
    "reward[8],reward[16],reward[17]=-3,-20,5\n",
    "A,b,c,P_0=Primal_parameters_1(rows,columns,prob,reward,discount,tol) # Compute constraints\n",
    "A_c,b_c,c_c,P_0_c=Analytic_center_bounds(rows,columns,prob,reward,discount,tol) # Compute constraints\n",
    "Grid_Map(b[0:P_0.shape[1]], rows, columns,'Rewards')"
   ]
  },
  {
   "cell_type": "code",
   "execution_count": 61,
   "metadata": {},
   "outputs": [
    {
     "data": {
      "image/png": "[encoded data removed]",
      "text/plain": [
       "<matplotlib.figure.Figure at 0x111c0ddd8>"
      ]
     },
     "metadata": {},
     "output_type": "display_data"
    },
    {
     "data": {
      "image/png": "[encoded data removed]",
      "text/plain": [
       "<matplotlib.figure.Figure at 0x111c7efd0>"
      ]
     },
     "metadata": {},
     "output_type": "display_data"
    }
   ],
   "source": [
    "polyit_val, bestAction2,error_pol, num_iter_pol, time_pol = policyitr(P_0, b[0:P_0.shape[1]], discount, tol) # Policy Iteration\n",
    "valit_val, bestAction,error_val, num_iter_val, time_val = valitr(P_0, b, discount,polyit_val, tol) # Value Iteration\n",
    "start_time = time.time()\n",
    "res = linprog(c, -A, -b, A_eq=None, b_eq=None, bounds=None, method='simplex',\\\n",
    "              callback=None, options={'disp': False, 'bland': False, 'tol': tol, 'maxiter': 1000}) # Simplex\n",
    "elapsed_time_simplex = time.time() - start_time\n",
    "obj_ecos_p, ecos_val_p, time_ecos_p=ECOS_Primal(A,b,c,tol) # ECOS Primal\n",
    "obj_scs_p, scs_val_p, time_scs_p=SCS_Primal(A,b,c,tol) # SCS Primal\n",
    "obj_cvx_p, cvx_val_p, time_cvx_p=CVXOPT_Primal(A,b,c,tol) # CVXOPT Primal\n",
    "plotGridWorld(polyit_val, bestAction2, rows, columns,'State Values')\n",
    "analytical_vals=findAnalyticCenter(A_c,b_c,valit_val+10,T=1000)\n",
    "#start_time = time.time()\n",
    "#projgrad_val, projgrad_error, projgrad_iter = descent(graddes, \"gradient\", analytical_vals, A, b, 10, tol, valit_val) # Projected Gradient\n",
    "#elapsed_time_projgrad = time.time() - start_time\n",
    "#start_time = time.time()\n",
    "#accgrad_val, accgrad_error, accgrad_iter = descent(accelgrad, \"accelerated\", analytical_vals, A, b, 10, tol, valit_val) # Accelerated Gradient Descent\n",
    "#elapsed_time_accgrad = time.time() - start_time\n",
    "interior_val, interior_error, elapsed_int=interiorPoint(A_c, b_c, discount, tol, 0.15, valit_val,1e-2) # Interior Point Method\n",
    "Plots2(error_pol,error_val,interior_error)"
   ]
  },
  {
   "cell_type": "markdown",
   "metadata": {},
   "source": [
    "| Methods  | Number of Iterations | Elapsed Time (s) | Error ($\\lVert . \\rVert_2$)|\n",
    "| ------------- | ------------- |------------ |------------|\n",
    "| Value Iteration  | 180  |0.30657 |8.753e-07 |\n",
    "| Policy Iteration  | 5  |0.01779 |Reference|\n",
    "| Simplex Method  | 64  |0.05696 |2.126e-08 |\n",
    "| ECOS Solver  | 10  |0.00332 |1.113e-06 |\n",
    "| SCS Solver  | >1000  |0.01769 |1.335e-02 |\n",
    "| CVXOPT Solver  | 8  |0.06416 |1.683e-06 |\n",
    "| Barrier Method  | 149 |4.22970|1.420e-06 |\n",
    "| Projected Gradient Descent | NA | NA |NA |\n",
    "| Acc Projected Gradient Descent  | NA |NA |NA |\n",
    "\n",
    "For the 5 by 5 case, the goal was to show how slight changes in dimension and structure caused issues for the projected gradient methods and success for the simplex method. In the simplex method, the symmetry was broken and allowed an initial feasible point to be found and subsequently determined the optimal solution. \n",
    "\n",
    "For the projected gradient descent methods, a solution was not able to be found in a reasonable amount of time. Again, this failure can be attributed to the projection scheme utilized, and in general, projected gradient descent is not a good methodology to utilize in this specific problem.\n",
    "\n",
    "The SCS solver also failed to find an optimal solution within the maximum number of iterations with an increase in the dimensionality, showing that scalability is an issue for the solver. \n",
    "\n",
    "The other methods were all successful in the primal problem."
   ]
  },
  {
   "cell_type": "markdown",
   "metadata": {},
   "source": [
    "###### ii) Dual Problem\n",
    "The dual problem has 125 variables and 150 constraints. We solve the dual problem using (1) simplex method and (2) CVXPY with SCS, ECOS, and CVXOPT solvers. The same procedure follows from the 4 by 4 grid world. "
   ]
  },
  {
   "cell_type": "code",
   "execution_count": 65,
   "metadata": {},
   "outputs": [
    {
     "name": "stdout",
     "output_type": "stream",
     "text": [
      "(25, 125)\n"
     ]
    },
    {
     "data": {
      "image/png": "[encoded data removed]",
      "text/plain": [
       "<matplotlib.figure.Figure at 0x115410358>"
      ]
     },
     "metadata": {},
     "output_type": "display_data"
    }
   ],
   "source": [
    "A_p,b_p,c_p=Dual_parameters_1(A,b,c)\n",
    "obj_ecos_d, ecos_val_d, time_ecos_d=ECOS_Dual(A_p,b_p,c_p,tol) # ECOS Dual\n",
    "obj_scs_d, scs_val_d, time_scs_d=SCS_Dual(A_p,b_p,c_p,tol) # SCS Dual\n",
    "obj_cvx_d, cvx_val_d, time_cvx_d=CVXOPT_Dual(A_p,b_p,c_p,tol) # CVXOPT Dual\n",
    "policy = np.zeros((A_p.shape[0],5))\n",
    "for a in range(5):\n",
    "    for i in range(A_p.shape[0]):\n",
    "         policy[i,a]=cvx_val_d[a*P_0.shape[1]+i]\n",
    "denum=np.sum(policy, axis=1)  \n",
    "for i in range(A_p.shape[0]):\n",
    "    for j in range(5):\n",
    "        policy[i,j]=policy[i,j]/denum[i]\n",
    "policy=np.argmax(policy,axis=1)\n",
    "plotGridWorld(b[0:P_0.shape[1]], policy, rows, columns,'Rewards')\n",
    "b_pp=np.reshape(b_p,(b_p.shape[0],))\n",
    "c_pp=np.reshape(c_p,(c_p.shape[0],1))\n",
    "eye=np.eye(A_p.shape[1])\n",
    "zeros=np.zeros((A_p.shape[1],1))\n",
    "start_time = time.time()\n",
    "res = linprog(-b_pp, -eye, zeros, A_eq=A_p, b_eq=c_pp, bounds=None, method='simplex',\\\n",
    "              callback=None, options={'disp': False, 'bland': False, 'tol': tol, 'maxiter': 1000}) # Simplex\n",
    "elapsed_time_simplex = time.time() - start_time"
   ]
  },
  {
   "cell_type": "markdown",
   "metadata": {},
   "source": [
    "| Methods  | Number of Iterations | Elapsed Time (s) |Elapsed Time (s) |\n",
    "| ------------- | ------------- |------------ |-------- |\n",
    "| Simplex Method  | 29  |0.058204 |9.155e-06 |\n",
    "| ECOS Solver  | 8  |0.00620 |Reference |\n",
    "| SCS Solver  | >1000  |0.02538 |1.663e-03 |\n",
    "| CVXOPT Solver  | 8  |0.02379 |9.020e-07 |\n",
    "\n",
    "In the dual 5x5 case, the aforementioned solvers followed the same general pattern as the 4 by 4 case."
   ]
  },
  {
   "cell_type": "markdown",
   "metadata": {},
   "source": [
    "### 3) 20 x 20 Grid World\n",
    "In this example, a 20 by 20 grid world example was utilized to compare the scalability of different methods. Again, we solved this problem using (1) value iteration, (2) policy iteration, (3) simplex method, (4) CVXPY with SCS, ECOS, and CVXOPT solvers, and (5) interior point (log barrier) method. We assume that the agent takes the chosen action with probability 0.8, and we use the discount factor of 0.9. The desired tolerance is $10^{-7}$.\n",
    "\n",
    "###### i) Primal Problem\n",
    "The primal problem has 400 variables and 2000 constraints. The first figure shows the reward values assigned to the grids. We provide the resulting policy obtained by policy iteration when the primal problem is used. We compare the methods in terms of the required number of iterations and the elapsed time (measured by $\\texttt{time.time()}$ function). Additionally, we include error vs. iteration plots for some of the methods. Error values are the 2-norm difference between the results of policy iteration and the other methods.\n"
   ]
  },
  {
   "cell_type": "code",
   "execution_count": 73,
   "metadata": {},
   "outputs": [
    {
     "data": {
      "image/png": "[encoded data removed]",
      "text/plain": [
       "<matplotlib.figure.Figure at 0x1151b9668>"
      ]
     },
     "metadata": {},
     "output_type": "display_data"
    }
   ],
   "source": [
    "rows,columns,prob,discount,tol=20,20,0.8,0.9,1e-7 # Parameters for the example\n",
    "reward=np.zeros((rows*columns,1))\n",
    "reward[46:60],reward[66:80]=-5*np.ones((14,1)),-5*np.ones((14,1))\n",
    "reward[120:126],reward[140:146]=-5*np.ones((6,1)), -5*np.ones((6,1))\n",
    "reward[152:160],reward[172:180]=-5*np.ones((8,1)), -5*np.ones((8,1))\n",
    "f=np.arange(148,408,20)\n",
    "f2=np.arange(149,409,20)\n",
    "reward[f],reward[f2]=-5*np.ones((13,1)),-5*np.ones((13,1))\n",
    "reward[314:316],reward[334:336]=5*np.ones((2,1)),5*np.ones((2,1))\n",
    "A,b,c,P_0=Primal_parameters_1(rows,columns,prob,reward,discount,tol) # Compute constraints\n",
    "A_c,b_c,c_c,P_0_c=Analytic_center_bounds(rows,columns,prob,reward,discount,tol) # Compute constraints\n",
    "Grid_Map(b[0:P_0.shape[1]], rows, columns,'Reward')"
   ]
  },
  {
   "cell_type": "code",
   "execution_count": 79,
   "metadata": {},
   "outputs": [
    {
     "data": {
      "image/png": "[encoded data removed]",
      "text/plain": [
       "<matplotlib.figure.Figure at 0x118a67748>"
      ]
     },
     "metadata": {},
     "output_type": "display_data"
    },
    {
     "data": {
      "image/png": "[encoded data removed]",
      "text/plain": [
       "<matplotlib.figure.Figure at 0x118a67940>"
      ]
     },
     "metadata": {},
     "output_type": "display_data"
    }
   ],
   "source": [
    "polyit_val, bestAction2,error_pol, num_iter_pol, time_pol = policyitr(P_0, b[0:P_0.shape[1]], discount, tol) # Policy Iteration\n",
    "valit_val, bestAction,error_val, num_iter_val, time_val = valitr(P_0, b, discount,polyit_val, tol) # Value Iteration\n",
    "start_time = time.time()\n",
    "res = linprog(c, -A, -b, A_eq=None, b_eq=None, bounds=None, method='simplex',\\\n",
    "              callback=None, options={'disp': False, 'bland': False, 'tol': tol, 'maxiter': 1000}) # Simplex\n",
    "elapsed_time_simplex = time.time() - start_time\n",
    "obj_ecos_p, ecos_val_p, time_ecos_p=ECOS_Primal(A,b,c,tol) # ECOS Primal\n",
    "obj_scs_p, scs_val_p, time_scs_p=SCS_Primal(A,b,c,tol) # SCS Primal\n",
    "obj_cvx_p, cvx_val_p, time_cvx_p=CVXOPT_Primal(A,b,c,tol) # CVXOPT Primal\n",
    "plotGridWorld(polyit_val, bestAction2, rows, columns,'State Values')\n",
    "#interior_val, interior_error, elapsed_int=interiorPoint(A_c, b_c, discount, tol, 0.15, valit_val,1e-2) # Interior Point Method\n",
    "Plots3(error_pol,error_val)"
   ]
  },
  {
   "cell_type": "markdown",
   "metadata": {},
   "source": [
    "| Methods  | Number of Iterations | Elapsed Time (s) |Error ($\\lVert . \\rvert_2$) |\n",
    "| ------------- | ------------- |------------ |---------- |\n",
    "| Value Iteration  | 197  |5.57690 |8.473e-07 |\n",
    "| Policy Iteration  | 11  |0.42219 | Reference|\n",
    "| Simplex Method  | NA  |NA |NA |\n",
    "| ECOS Solver  | 22  |0.04432 |3.4998e-05 |\n",
    "| SCS Solver  | >1000  |0.72171 |3.430 |\n",
    "| CVXOPT Solver  | 15  |1.35374 |4.828e-07 |\n",
    "| Barrier Method  | NA  |>10 mins|NA |\n",
    "| Projected Gradient Descent | NA | NA |NA|\n",
    "| Acc Projected Gradient Descent  | NA |NA |NA |\n",
    "\n",
    "The 20 by 20 primal case was chosen to show scalability of the prescribed methodologies and was chosen such that it represented a maze. The goal was to provide narrow paths to the final reward without passing through the cost “barriers”, however, due to the high discount factor the agent was willing to cross these barriers to reach the final reward using the shortest path. \n",
    "\n",
    "The projected gradient methods were not considered due to their failures in the 5 by 5 case. The interior point method was unable to converge in a reasonable about of time. After running for more than 10 minutes, a solution could not be obtained. The simplex method failed, again, to find a feasible starting point and SCS, again, reach its maximum number of iterations. The other methods were able to converge, however, with limited performance. ECOS, and CVXOPT method were able to find the optimal solution with some error."
   ]
  },
  {
   "cell_type": "markdown",
   "metadata": {},
   "source": [
    "###### ii) Dual Problem\n",
    "The dual problem has 2000 variables and 2400 constraints. For this case, the same procedure was utilized as mentioned previously."
   ]
  },
  {
   "cell_type": "code",
   "execution_count": 67,
   "metadata": {},
   "outputs": [
    {
     "name": "stdout",
     "output_type": "stream",
     "text": [
      "(400, 2000)\n"
     ]
    },
    {
     "data": {
      "image/png": "[encoded data removed]",
      "text/plain": [
       "<matplotlib.figure.Figure at 0x111c7ee80>"
      ]
     },
     "metadata": {},
     "output_type": "display_data"
    }
   ],
   "source": [
    "A_p,b_p,c_p=Dual_parameters_1(A,b,c)\n",
    "obj_ecos_d, ecos_val_d, time_ecos_d=ECOS_Dual(A_p,b_p,c_p,tol) # ECOS Dual\n",
    "obj_scs_d, scs_val_d, time_scs_d=SCS_Dual(A_p,b_p,c_p,tol) # SCS Dual\n",
    "obj_cvx_d, cvx_val_d, time_cvx_d=CVXOPT_Dual(A_p,b_p,c_p,tol) # CVXOPT Dual\n",
    "policy = np.zeros((A_p.shape[0],5))\n",
    "for a in range(5):\n",
    "    for i in range(A_p.shape[0]):\n",
    "         policy[i,a]=cvx_val_d[a*P_0.shape[1]+i]\n",
    "denum=np.sum(policy, axis=1)  \n",
    "for i in range(A_p.shape[0]):\n",
    "    for j in range(5):\n",
    "        policy[i,j]=policy[i,j]/denum[i]\n",
    "policy=np.argmax(policy,axis=1)\n",
    "plotGridWorld(b[0:P_0.shape[1]], policy, rows, columns,'Reward')\n",
    "b_pp=np.reshape(b_p,(b_p.shape[0],))\n",
    "c_pp=np.reshape(c_p,(c_p.shape[0],1))\n",
    "eye=np.eye(A_p.shape[1])\n",
    "zeros=np.zeros((A_p.shape[1],1))\n",
    "start_time = time.time()\n",
    "res = linprog(-b_pp, -eye, zeros, A_eq=A_p, b_eq=c_pp, bounds=None, method='simplex',\\\n",
    "              callback=None, options={'disp': False, 'bland': False, 'tol': tol, 'maxiter': 10000}) # Simplex\n",
    "elapsed_time_simplex = time.time() - start_time"
   ]
  },
  {
   "cell_type": "markdown",
   "metadata": {},
   "source": [
    "| Methods  | Number of Iterations | Elapsed Time (s) |Error ($\\lvert . \\rvert$) |\n",
    "| ------------- | ------------- |------------| ------- |\n",
    "| Simplex Method  | 761  |22.08202 |9.33e-04 |\n",
    "| ECOS Solver  | 15  |0.05125 |Reference |\n",
    "| SCS Solver  | >1000  |0.47717 |43.326 |\n",
    "| CVXOPT Solver  | 15  |8.32947|9.235e-04 |\n",
    "\n",
    "The 20x20 dual case showed success in the simplex, ECOS, and CVXOPT solvers, however, SCS still reached its maximum number of iterations. Simplex succeeded but took some time to converge due to the large number of vertices it is required to cross."
   ]
  },
  {
   "cell_type": "markdown",
   "metadata": {},
   "source": [
    "### 4)  Random MDP\n",
    "In this example, we used a randomly generated MDP with 100 states and 10 available actions at each state. The aim was to compare the performance of algorithms when the number of actions is large. As a result, the optimization problem has 100 variables and 1000 constraints. We solve this problem using (1) value iteration, (2) policy iteration, (3) simplex method, (4) CVXPY with SCS, ECOS, and CVXOPT solvers, (5) interior point (log barrier) method. We assume a discount factor of 0.9 and tolerance of $10^{-7}$."
   ]
  },
  {
   "cell_type": "code",
   "execution_count": 68,
   "metadata": {},
   "outputs": [
    {
     "data": {
      "image/png": "[encoded data removed]",
      "text/plain": [
       "<matplotlib.figure.Figure at 0x116ed4a90>"
      ]
     },
     "metadata": {},
     "output_type": "display_data"
    }
   ],
   "source": [
    "nStates = 100\n",
    "nActions = 10\n",
    "P_0 = randomMDP(nStates, nActions)\n",
    "discount = 0.9\n",
    "reward=np.zeros((nStates,1))\n",
    "reward[5] = 1\n",
    "tol = 1e-7\n",
    "A, b, c = Primal_parameters_2(P_0, discount, reward)\n",
    "A_c, b_c, c_c = Analytic_center_bounds2(P_0, discount, reward)\n",
    "\n",
    "polyit_val, bestAction2,error_pol, num_iter_pol, time_pol = policyitr(P_0, b[0:P_0.shape[1]], discount, tol) # Policy Iteration\n",
    "valit_val, bestAction,error_val, num_iter_val, time_val = valitr(P_0, b, discount,polyit_val, tol) # Value Iteration\n",
    "start_time = time.time()\n",
    "res = linprog(c, -A, -b, A_eq=None, b_eq=None, bounds=None, method='simplex',\\\n",
    "              callback=None, options={'disp': False, 'bland': False, 'tol': tol, 'maxiter': 1000}) # Simplex\n",
    "elapsed_time_simplex = time.time() - start_time\n",
    "obj_ecos_p, ecos_val_p, time_ecos_p=ECOS_Primal(A,b,c,tol) # ECOS Primal\n",
    "obj_scs_p, scs_val_p, time_scs_p=SCS_Primal(A,b,c,tol) # SCS Primal\n",
    "obj_cvx_p, cvx_val_p, time_cvx_p=CVXOPT_Primal(A,b,c,tol) # CVXOPT Primal\n",
    "analytical_vals=findAnalyticCenter(A_c,b_c,valit_val+10,T=1000)\n",
    "interior_val, interior_error, elapsed_int=interiorPoint(A_c, b_c, discount, tol, 0.2, valit_val,1e-2) # Interior Point Method\n",
    "Plots2(error_pol,error_val,interior_error)"
   ]
  },
  {
   "cell_type": "markdown",
   "metadata": {},
   "source": [
    "| Methods  | Number of Iterations | Elapsed Time (s) |Error ($\\lVert . \\rVert_2$) |\n",
    "| ------------- | ------------- |------------ |--------- |\n",
    "| Value Iteration  | 161  |2.28612 |8.415e-07 |\n",
    "| Policy Iteration  | 6  |0.10054 |Reference |\n",
    "| Simplex Method  | 644  |4.59808 |1.223e-10 |\n",
    "| ECOS Solver  | 13  |0.02215 |4.445e-08 |\n",
    "| SCS Solver  | >1000  |0.19035 |5.918e-03 |\n",
    "| CVXOPT Solver  | 13  |0.36518 |2.234e-07 |\n",
    "| Barrier Method  | 275  |52.3008 |1.301e-06 |\n",
    "| Projected Gradient Descent | NA | NA |NA |\n",
    "| Acc Projected Gradient Descent  | NA |NA |NA |\n",
    "\n",
    "The last example was a randomly generated with a large number of actions and to show feasibility of methods in a different structure. Again, the projected gradient methods did not converge in a reasonable amount of time and SCS reached it maximum number of iterations without determining an optimal solution, but all others succeeded. "
   ]
  },
  {
   "cell_type": "markdown",
   "metadata": {
    "collapsed": true
   },
   "source": [
    "## Conclusion\n",
    "\n",
    "For the primal case, the dynamic programming methodologies performed the best as expected. The linear programming methodologies provide a solution, but take substantial resources to tune and time to converge. ECOS and CVXOPT were able to handle all problems we provided without tuning and their time of convergence was comparable to the dynamic programming methods. For the simplex method, even for small state spaces, the structure of the constraints changes the convergence results dramatically and so the user should be cautious and understand the structure of the MDP. Albeit, the interior point method implemented was a basic implementation and did not utilize any approximations inside the function, the interior point method, in general, shows promise for these kinds of problems. However, as mentioned previously, it requires signficant effort to achieve results comparable to the dynamic programming methods. On the other hand, for MDPs which achieve the maximum total expected reward using randomized policies, dual linear programming formulation should be preferred to policy and value iteration techniques. However, linear programming methods provide a connection to approximate dynamic programming techiques such as Q-learning and policy gradient methods. "
   ]
  },
  {
   "cell_type": "markdown",
   "metadata": {},
   "source": [
    "## Citations\n",
    "[Put94] Puterman, Martin L. “Markov Decision Processes: Discrete Stochastic Dynamic Programming”, John Wiley & Sons, Inc., New York, NY, USA, 1994.\n",
    "\n",
    "[BT96] Bertsekas, Dimitri P., Tsitsiklis John N. “Neuro-Dynamic Programming”, Athena Scientific, Belmont, Mass, USA, 1996.\n",
    "\n",
    "[Boyd03] Boyd, Stephen, Dottaro, Jon. \"Alternating projections\", Lecture notes of EE392o, Stanford University, 2003.\n",
    "\n",
    "[BV04] Boyd, Stephen, Vandenberghe, Lieven. \"Convex Optimization\", Cambridge University Press, Cambridge, UK, 2004."
   ]
  }
 ],
 "metadata": {
  "kernelspec": {
   "display_name": "Python 3",
   "language": "python",
   "name": "python3"
  },
  "language_info": {
   "codemirror_mode": {
    "name": "ipython",
    "version": 3
   },
   "file_extension": ".py",
   "mimetype": "text/x-python",
   "name": "python",
   "nbconvert_exporter": "python",
   "pygments_lexer": "ipython3",
   "version": "3.6.3"
  }
 },
 "nbformat": 4,
 "nbformat_minor": 2
}
